{
 "cells": [
  {
   "cell_type": "code",
   "execution_count": 1,
   "id": "210ec12d",
   "metadata": {
    "ExecuteTime": {
     "end_time": "2023-06-04T10:55:09.895701Z",
     "start_time": "2023-06-04T10:55:08.563709Z"
    }
   },
   "outputs": [],
   "source": [
    "import os\n",
    "import torch\n",
    "import torch.nn.functional as F\n",
    "from torch.utils.data import Dataset, DataLoader"
   ]
  },
  {
   "cell_type": "code",
   "execution_count": 2,
   "id": "06f5263a",
   "metadata": {
    "ExecuteTime": {
     "end_time": "2023-06-04T10:55:10.848917Z",
     "start_time": "2023-06-04T10:55:10.845750Z"
    }
   },
   "outputs": [],
   "source": [
    "import torch.multiprocessing as mp\n",
    "from torch.utils.data.distributed import DistributedSampler\n",
    "from torch.nn.parallel import DistributedDataParallel as DDP\n",
    "from torch.distributed import init_process_group, destroy_process_group"
   ]
  },
  {
   "cell_type": "markdown",
   "id": "a9d74e7d",
   "metadata": {},
   "source": [
    "## basics"
   ]
  },
  {
   "cell_type": "markdown",
   "id": "ca0ed54b",
   "metadata": {},
   "source": [
    "- All to one：reduce； one to All：broadcast\n",
    "- rank：`[0, world_size-1]`"
   ]
  },
  {
   "cell_type": "markdown",
   "id": "03e2a7c2",
   "metadata": {},
   "source": [
    "## ddp setup"
   ]
  },
  {
   "cell_type": "code",
   "execution_count": 3,
   "id": "4d3d4479",
   "metadata": {
    "ExecuteTime": {
     "end_time": "2023-06-04T10:59:38.608938Z",
     "start_time": "2023-06-04T10:59:38.581744Z"
    }
   },
   "outputs": [
    {
     "data": {
      "text/plain": [
       "8"
      ]
     },
     "execution_count": 3,
     "metadata": {},
     "output_type": "execute_result"
    }
   ],
   "source": [
    "world_size = torch.cuda.device_count()\n",
    "world_size"
   ]
  },
  {
   "cell_type": "code",
   "execution_count": 4,
   "id": "6c837dff",
   "metadata": {
    "ExecuteTime": {
     "end_time": "2023-06-04T10:58:09.194087Z",
     "start_time": "2023-06-04T10:58:09.184776Z"
    }
   },
   "outputs": [],
   "source": [
    "def ddp_setup(rank, world_size):\n",
    "    \"\"\"\n",
    "    Args:\n",
    "        rank: Unique identifier of each process\n",
    "        world_size: Total number of processes\n",
    "    \"\"\"\n",
    "    # rank 0 process\n",
    "    os.environ[\"MASTER_ADDR\"] = \"localhost\"\n",
    "    os.environ[\"MASTER_PORT\"] = \"12355\"\n",
    "    # nccl：NVIDIA Collective Communication Library \n",
    "    # 分布式情况下的，gpus 间通信\n",
    "    init_process_group(backend=\"nccl\", rank=rank, world_size=world_size)\n",
    "    torch.cuda.set_device(rank)"
   ]
  },
  {
   "cell_type": "markdown",
   "id": "40cf989e",
   "metadata": {},
   "source": [
    "## custom Trainer（自定义 trainer）"
   ]
  },
  {
   "cell_type": "code",
   "execution_count": 5,
   "id": "8bafbc8e",
   "metadata": {
    "ExecuteTime": {
     "end_time": "2023-06-04T11:01:42.731715Z",
     "start_time": "2023-06-04T11:01:42.715204Z"
    }
   },
   "outputs": [],
   "source": [
    "class Trainer:\n",
    "    def __init__(self, \n",
    "                 model: torch.nn.Module, \n",
    "                 train_dataloader: DataLoader, \n",
    "                 optimizer: torch.optim.Optimizer, \n",
    "                 gpu_id: int) -> None:\n",
    "        # rank\n",
    "        self.gpu_id = gpu_id\n",
    "        self.model = model.to(gpu_id)\n",
    "        self.train_dataloader = train_dataloader\n",
    "        self.optimizer = optimizer\n",
    "        self.model = DDP(model, device_ids=[gpu_id])\n",
    "    \n",
    "    def _run_batch(self, xs, ys):\n",
    "        self.optimizer.zero_grad()\n",
    "        output = self.model(xs)\n",
    "        loss = F.cross_entropy(output, ys)\n",
    "        loss.backward()\n",
    "        self.optimizer.step()\n",
    "    \n",
    "    def _run_epoch(self, epoch):\n",
    "        batch_size = len(next(iter(self.train_dataloader))[0])\n",
    "        print(f'[GPU: {self.gpu_id}] Epoch: {epoch} | Batchsize: {batch_size} | Steps: {len(self.train_dataloader)}')\n",
    "        self.train_dataloader.sampler.set_epoch(epoch)\n",
    "        for xs, ys in self.train_dataloader:\n",
    "            xs = xs.to(self.gpu_id)\n",
    "            ys = ys.to(self.gpu_id)\n",
    "            self._run_batch(xs, ys)\n",
    "    \n",
    "    def train(self, max_epoch: int):\n",
    "        for epoch in range(max_epoch):\n",
    "            self._run_epoch(epoch)"
   ]
  },
  {
   "cell_type": "code",
   "execution_count": null,
   "id": "e9d8de9b",
   "metadata": {},
   "outputs": [],
   "source": [
    "# class Trainer:\n",
    "#     def __init__(self, \n",
    "#                  model: torch.nn.Module, \n",
    "#                  train_dataloader: DataLoader, \n",
    "#                  optimizer: torch.optim.Optimizer, \n",
    "#                  gpu_id: int) -> None:\n",
    "#         # 保存当前进程对应的 GPU ID（即 rank）\n",
    "#         self.gpu_id = gpu_id\n",
    "        \n",
    "#         # 将模型移动到当前进程指定的 GPU 上\n",
    "#         self.model = model.to(gpu_id)\n",
    "        \n",
    "#         # 保存训练用的数据加载器\n",
    "#         self.train_dataloader = train_dataloader\n",
    "        \n",
    "#         # 保存优化器\n",
    "#         self.optimizer = optimizer\n",
    "        \n",
    "#         # 使用 DistributedDataParallel 包装模型，启用分布式训练\n",
    "#         # device_ids 指定当前进程使用的 GPU 设备\n",
    "#         self.model = DDP(model, device_ids=[gpu_id])\n",
    "    \n",
    "#     def _run_batch(self, xs, ys):\n",
    "#         # 清空上一次的梯度\n",
    "#         self.optimizer.zero_grad()\n",
    "        \n",
    "#         # 前向传播：得到模型输出\n",
    "#         output = self.model(xs)\n",
    "        \n",
    "#         # 计算损失函数（交叉熵损失）\n",
    "#         loss = F.cross_entropy(output, ys)\n",
    "        \n",
    "#         # 反向传播：计算梯度\n",
    "#         loss.backward()\n",
    "        \n",
    "#         # 更新参数\n",
    "#         self.optimizer.step()\n",
    "    \n",
    "#     def _run_epoch(self, epoch):\n",
    "#         # 获取一个 batch 的样本数量（用于打印信息）\n",
    "#         batch_size = len(next(iter(self.train_dataloader))[0])\n",
    "        \n",
    "#         # 打印当前 epoch、batch 大小和总步数（每个 epoch 的 batch 数量）\n",
    "#         print(f'[GPU: {self.gpu_id}] Epoch: {epoch} | Batchsize: {batch_size} | Steps: {len(self.train_dataloader)}')\n",
    "        \n",
    "#         # 在每个 epoch 开始时设置 sampler 的 epoch，确保数据打乱方式不同\n",
    "#         self.train_dataloader.sampler.set_epoch(epoch)\n",
    "        \n",
    "#         # 遍历 dataloader 中的每一个 batch\n",
    "#         for xs, ys in self.train_dataloader:\n",
    "#             # 将输入数据移动到当前进程的 GPU 上\n",
    "#             xs = xs.to(self.gpu_id)\n",
    "            \n",
    "#             # 将标签数据移动到当前进程的 GPU 上\n",
    "#             ys = ys.to(self.gpu_id)\n",
    "            \n",
    "#             # 执行单个 batch 的训练步骤\n",
    "#             self._run_batch(xs, ys)\n",
    "    \n",
    "#     def train(self, max_epoch: int):\n",
    "#         # 对每个 epoch 进行训练\n",
    "#         for epoch in range(max_epoch):\n",
    "#             # 执行一个完整的训练轮次（一个 epoch）\n",
    "#             self._run_epoch(epoch)"
   ]
  },
  {
   "cell_type": "markdown",
   "metadata": {},
   "source": []
  },
  {
   "cell_type": "markdown",
   "id": "84825fd6",
   "metadata": {},
   "source": [
    "## pipeline"
   ]
  },
  {
   "cell_type": "code",
   "execution_count": 6,
   "id": "b5d08c60",
   "metadata": {
    "ExecuteTime": {
     "end_time": "2023-06-04T11:01:46.437156Z",
     "start_time": "2023-06-04T11:01:46.428233Z"
    }
   },
   "outputs": [],
   "source": [
    "class MyTrainDataset(Dataset):\n",
    "    def __init__(self, size):\n",
    "        self.size = size\n",
    "        self.data = [(torch.rand(20), torch.rand(1)) for _ in range(size)]\n",
    "\n",
    "    def __len__(self):\n",
    "        return self.size\n",
    "    \n",
    "    def __getitem__(self, index):\n",
    "        return self.data[index]"
   ]
  },
  {
   "cell_type": "code",
   "execution_count": null,
   "id": "bef85ae6",
   "metadata": {},
   "outputs": [],
   "source": [
    "# class MyTrainDataset(Dataset):\n",
    "#     def __init__(self, size):  # 构造函数，初始化数据集大小\n",
    "#         self.size = size  # 保存数据集的大小\n",
    "#         self.data = [(torch.rand(20), torch.rand(1)) for _ in range(size)]  # 生成随机输入和输出的数据对，作为数据集内容\n",
    "\n",
    "#     def __len__(self):  # 返回数据集的大小\n",
    "#         return self.size  # 返回数据集中样本的数量\n",
    "\n",
    "#     def __getitem__(self, index):  # 根据索引获取单个数据样本\n",
    "#         return self.data[index]  # 返回指定索引位置上的数据样本"
   ]
  },
  {
   "cell_type": "code",
   "execution_count": 7,
   "id": "09327fdb",
   "metadata": {
    "ExecuteTime": {
     "end_time": "2023-06-04T11:01:57.264942Z",
     "start_time": "2023-06-04T11:01:57.194324Z"
    }
   },
   "outputs": [],
   "source": [
    "train_dataset = MyTrainDataset(2048)"
   ]
  },
  {
   "cell_type": "code",
   "execution_count": 8,
   "id": "c4df0663",
   "metadata": {
    "ExecuteTime": {
     "end_time": "2023-06-04T11:01:58.724641Z",
     "start_time": "2023-06-04T11:01:58.711266Z"
    }
   },
   "outputs": [
    {
     "data": {
      "text/plain": [
       "(tensor([0.9667, 0.0344, 0.4949, 0.0568, 0.7420, 0.0653, 0.5933, 0.2974, 0.1428,\n",
       "         0.3780, 0.9968, 0.7291, 0.5143, 0.4751, 0.9737, 0.4574, 0.8796, 0.5992,\n",
       "         0.0597, 0.3505]),\n",
       " tensor([0.5779]))"
      ]
     },
     "execution_count": 8,
     "metadata": {},
     "output_type": "execute_result"
    }
   ],
   "source": [
    "train_dataset[0]"
   ]
  },
  {
   "cell_type": "code",
   "execution_count": 9,
   "id": "e289bb7c",
   "metadata": {
    "ExecuteTime": {
     "end_time": "2023-06-04T08:50:37.063917Z",
     "start_time": "2023-06-04T08:50:37.052219Z"
    }
   },
   "outputs": [],
   "source": [
    "def main(rank: int, world_size: int, max_epochs: int, batch_size: int):\n",
    "    ddp_setup(rank, world_size)\n",
    "    \n",
    "    train_dataset = MyTrainDataset(2048)\n",
    "    train_dataloader = DataLoader(train_dataset, \n",
    "                              batch_size=batch_size, \n",
    "                              pin_memory=True, \n",
    "                              shuffle=False, \n",
    "                              # batch input: split to each gpus (且没有任何 overlaping samples 各个 gpu 之间)\n",
    "                              sampler=DistributedSampler(train_dataset))\n",
    "    model = torch.nn.Linear(20, 1)\n",
    "    optimzer = torch.optim.SGD(model.parameters(), lr=1e-3)\n",
    "    \n",
    "    trainer = Trainer(model=model, gpu_id=rank, optimizer=optimzer, train_dataloader=train_dataloader)\n",
    "    trainer.train(max_epochs)\n",
    "    \n",
    "    destroy_process_group()"
   ]
  },
  {
   "cell_type": "code",
   "execution_count": null,
   "id": "e1829ad0",
   "metadata": {},
   "outputs": [],
   "source": [
    "# def main(rank: int, world_size: int, max_epochs: int, batch_size: int):\n",
    "#     # 调用 ddp_setup 函数，初始化分布式训练环境，传入当前进程的 rank 和总的进程数 world_size\n",
    "#     ddp_setup(rank, world_size)\n",
    "    \n",
    "#     # 创建自定义数据集 MyTrainDataset 的实例，数据集大小为 2048\n",
    "#     train_dataset = MyTrainDataset(2048)\n",
    "    \n",
    "#     # 使用 DataLoader 加载数据集，设置每个批次的数据量为 batch_size，启用 pin_memory 提高 GPU 数据传输效率\n",
    "#     # shuffle=False 表示不随机打乱数据，因为使用了 DistributedSampler 来自动分配不同 GPU 的数据\n",
    "#     # DistributedSampler 保证每个 GPU 进程获取到不同的数据子集，且没有重叠样本\n",
    "#     train_dataloader = DataLoader(train_dataset, \n",
    "#                                 batch_size=batch_size, \n",
    "#                                 pin_memory=True, \n",
    "#                                 shuffle=False, \n",
    "#                                 sampler=DistributedSampler(train_dataset))\n",
    "    \n",
    "#     # 定义一个简单的线性模型，输入维度为 20，输出维度为 1\n",
    "#     model = torch.nn.Linear(20, 1)\n",
    "    \n",
    "#     # 使用 SGD（随机梯度下降）优化器，学习率为 1e-3，用于更新模型参数\n",
    "#     optimzer = torch.optim.SGD(model.parameters(), lr=1e-3)\n",
    "    \n",
    "#     # 初始化 Trainer 类，将模型、GPU ID、优化器和数据加载器传递给它，准备开始训练\n",
    "#     trainer = Trainer(model=model, gpu_id=rank, optimizer=optimzer, train_dataloader=train_dataloader)\n",
    "    \n",
    "#     # 开始训练，指定最大训练轮次 max_epochs\n",
    "#     trainer.train(max_epochs)\n",
    "    \n",
    "#     # 销毁分布式训练的进程组，释放资源\n",
    "#     destroy_process_group()"
   ]
  },
  {
   "cell_type": "markdown",
   "id": "d812836b",
   "metadata": {},
   "source": [
    "## 分布式 training"
   ]
  },
  {
   "cell_type": "code",
   "execution_count": 17,
   "id": "13a0af9e",
   "metadata": {
    "ExecuteTime": {
     "end_time": "2023-06-04T11:03:36.417900Z",
     "start_time": "2023-06-04T11:03:36.406164Z"
    }
   },
   "outputs": [
    {
     "data": {
      "text/plain": [
       "8"
      ]
     },
     "execution_count": 17,
     "metadata": {},
     "output_type": "execute_result"
    }
   ],
   "source": [
    "world_size = torch.cuda.device_count()\n",
    "world_size"
   ]
  },
  {
   "cell_type": "code",
   "execution_count": 18,
   "id": "b7ce2f2c",
   "metadata": {
    "ExecuteTime": {
     "end_time": "2023-06-04T11:05:47.640962Z",
     "start_time": "2023-06-04T11:05:47.629836Z"
    }
   },
   "outputs": [
    {
     "data": {
      "text/plain": [
       "64.0"
      ]
     },
     "execution_count": 18,
     "metadata": {},
     "output_type": "execute_result"
    }
   ],
   "source": [
    "2048/32"
   ]
  },
  {
   "cell_type": "code",
   "execution_count": 19,
   "id": "07f5d26f",
   "metadata": {
    "ExecuteTime": {
     "end_time": "2023-06-04T11:06:11.807967Z",
     "start_time": "2023-06-04T11:06:11.798677Z"
    }
   },
   "outputs": [
    {
     "data": {
      "text/plain": [
       "2048"
      ]
     },
     "execution_count": 19,
     "metadata": {},
     "output_type": "execute_result"
    }
   ],
   "source": [
    "(32*32) * 2"
   ]
  },
  {
   "cell_type": "code",
   "execution_count": 20,
   "id": "4060e860",
   "metadata": {
    "ExecuteTime": {
     "end_time": "2023-06-04T11:04:53.291460Z",
     "start_time": "2023-06-04T11:04:47.225247Z"
    }
   },
   "outputs": [
    {
     "name": "stdout",
     "output_type": "stream",
     "text": [
      "[W518 14:40:19.035822065 socket.cpp:755] [c10d] The client socket cannot be initialized to connect to [localhost]:12355 (errno: 97 - Address family not supported by protocol).\n",
      "[W518 14:40:19.035860824 socket.cpp:755] [c10d] The client socket cannot be initialized to connect to [localhost]:12355 (errno: 97 - Address family not supported by protocol).\n",
      "[W518 14:40:19.036353298 socket.cpp:755] [c10d] The client socket cannot be initialized to connect to [::ffff:127.0.0.1]:12355 (errno: 97 - Address family not supported by protocol).\n",
      "[W518 14:40:19.050114151 socket.cpp:755] [c10d] The client socket cannot be initialized to connect to [::ffff:127.0.0.1]:12355 (errno: 97 - Address family not supported by protocol).\n",
      "[W518 14:40:19.054724000 socket.cpp:755] [c10d] The client socket cannot be initialized to connect to [localhost]:12355 (errno: 97 - Address family not supported by protocol).\n",
      "[W518 14:40:19.057531352 socket.cpp:755] [c10d] The client socket cannot be initialized to connect to [localhost]:12355 (errno: 97 - Address family not supported by protocol).\n",
      "[W518 14:40:19.067448031 socket.cpp:755] [c10d] The client socket cannot be initialized to connect to [localhost]:12355 (errno: 97 - Address family not supported by protocol).\n",
      "[W518 14:40:19.073291937 socket.cpp:755] [c10d] The client socket cannot be initialized to connect to [localhost]:12355 (errno: 97 - Address family not supported by protocol).\n",
      "[GPU: 0] Epoch: 0 | Batchsize: 32 | Steps: 8\n",
      "[GPU: 3] Epoch: 0 | Batchsize: 32 | Steps: 8\n",
      "[GPU: 2] Epoch: 0 | Batchsize: 32 | Steps: 8\n",
      "[GPU: 1] Epoch: 0 | Batchsize: 32 | Steps: 8\n",
      "[GPU: 5] Epoch: 0 | Batchsize: 32 | Steps: 8\n",
      "[GPU: 6] Epoch: 0 | Batchsize: 32 | Steps: 8\n",
      "[GPU: 4] Epoch: 0 | Batchsize: 32 | Steps: 8\n",
      "[GPU: 7] Epoch: 0 | Batchsize: 32 | Steps: 8\n",
      "[GPU: 1] Epoch: 1 | Batchsize: 32 | Steps: 8[GPU: 4] Epoch: 1 | Batchsize: 32 | Steps: 8[GPU: 6] Epoch: 1 | Batchsize: 32 | Steps: 8\n",
      "\n",
      "\n",
      "[GPU: 0] Epoch: 1 | Batchsize: 32 | Steps: 8[GPU: 2] Epoch: 1 | Batchsize: 32 | Steps: 8\n",
      "\n",
      "[GPU: 7] Epoch: 1 | Batchsize: 32 | Steps: 8\n",
      "[GPU: 5] Epoch: 1 | Batchsize: 32 | Steps: 8\n",
      "[GPU: 3] Epoch: 1 | Batchsize: 32 | Steps: 8\n",
      "[GPU: 1] Epoch: 2 | Batchsize: 32 | Steps: 8\n",
      "[GPU: 0] Epoch: 2 | Batchsize: 32 | Steps: 8[GPU: 6] Epoch: 2 | Batchsize: 32 | Steps: 8\n",
      "[GPU: 2] Epoch: 2 | Batchsize: 32 | Steps: 8\n",
      "\n",
      "[GPU: 4] Epoch: 2 | Batchsize: 32 | Steps: 8\n",
      "[GPU: 3] Epoch: 2 | Batchsize: 32 | Steps: 8\n",
      "[GPU: 5] Epoch: 2 | Batchsize: 32 | Steps: 8\n",
      "[GPU: 7] Epoch: 2 | Batchsize: 32 | Steps: 8\n",
      "[GPU: 1] Epoch: 3 | Batchsize: 32 | Steps: 8\n",
      "[GPU: 4] Epoch: 3 | Batchsize: 32 | Steps: 8\n",
      "[GPU: 3] Epoch: 3 | Batchsize: 32 | Steps: 8[GPU: 0] Epoch: 3 | Batchsize: 32 | Steps: 8\n",
      "\n",
      "[GPU: 2] Epoch: 3 | Batchsize: 32 | Steps: 8\n",
      "[GPU: 6] Epoch: 3 | Batchsize: 32 | Steps: 8\n",
      "[GPU: 5] Epoch: 3 | Batchsize: 32 | Steps: 8\n",
      "[GPU: 7] Epoch: 3 | Batchsize: 32 | Steps: 8\n",
      "[GPU: 4] Epoch: 4 | Batchsize: 32 | Steps: 8\n",
      "[GPU: 1] Epoch: 4 | Batchsize: 32 | Steps: 8[GPU: 0] Epoch: 4 | Batchsize: 32 | Steps: 8[GPU: 6] Epoch: 4 | Batchsize: 32 | Steps: 8\n",
      "\n",
      "[GPU: 2] Epoch: 4 | Batchsize: 32 | Steps: 8\n",
      "[GPU: 3] Epoch: 4 | Batchsize: 32 | Steps: 8\n",
      "\n",
      "[GPU: 5] Epoch: 4 | Batchsize: 32 | Steps: 8\n",
      "[GPU: 7] Epoch: 4 | Batchsize: 32 | Steps: 8\n"
     ]
    }
   ],
   "source": [
    "# mp.spawn(main, args=(world_size, 10, 32), nprocs=world_size)\n",
    "!python ddp_gpus.py --max_epochs 5 --batch_size 32 "
   ]
  },
  {
   "cell_type": "markdown",
   "id": "2a715ec3",
   "metadata": {},
   "source": [
    "## torchrun 运行"
   ]
  },
  {
   "cell_type": "markdown",
   "id": "40b89bf1",
   "metadata": {},
   "source": [
    "- https://pytorch.org/docs/stable/elastic/run.html\n",
    "- fault-tolerant \n",
    "- `torchrun`\n",
    "    - Worker RANK and WORLD_SIZE are assigned automatically.\n",
    "    - `python -m torch.distributed.launch --use-env`"
   ]
  },
  {
   "cell_type": "code",
   "execution_count": 14,
   "id": "38ffe4f6",
   "metadata": {
    "ExecuteTime": {
     "end_time": "2023-06-04T11:08:45.152191Z",
     "start_time": "2023-06-04T11:08:38.428001Z"
    }
   },
   "outputs": [
    {
     "name": "stdout",
     "output_type": "stream",
     "text": [
      "[W518 13:52:47.541889790 socket.cpp:755] [c10d] The client socket cannot be initialized to connect to [::ffff:127.0.0.1]:29500 (errno: 97 - Address family not supported by protocol).\n",
      "[W518 13:52:48.781252687 socket.cpp:755] [c10d] The client socket cannot be initialized to connect to [localhost]:29500 (errno: 97 - Address family not supported by protocol).\n",
      "[GPU: 0] Epoch: 0 | Batchsize: 32 | Steps: 64\n",
      "[GPU: 0] Epoch: 1 | Batchsize: 32 | Steps: 64\n",
      "[GPU: 0] Epoch: 2 | Batchsize: 32 | Steps: 64\n",
      "[GPU: 0] Epoch: 3 | Batchsize: 32 | Steps: 64\n",
      "[GPU: 0] Epoch: 4 | Batchsize: 32 | Steps: 64\n"
     ]
    }
   ],
   "source": [
    "!torchrun ddp_gpus_torchrun.py --max_epochs 5 --batch_size 32"
   ]
  },
  {
   "cell_type": "code",
   "execution_count": 15,
   "id": "3b68d1b7",
   "metadata": {
    "ExecuteTime": {
     "end_time": "2023-06-04T11:09:06.423777Z",
     "start_time": "2023-06-04T11:08:59.674336Z"
    },
    "scrolled": false
   },
   "outputs": [
    {
     "name": "stdout",
     "output_type": "stream",
     "text": [
      "W0518 13:52:54.965000 43619 site-packages/torch/distributed/run.py:766] \n",
      "W0518 13:52:54.965000 43619 site-packages/torch/distributed/run.py:766] *****************************************\n",
      "W0518 13:52:54.965000 43619 site-packages/torch/distributed/run.py:766] Setting OMP_NUM_THREADS environment variable for each process to be 1 in default, to avoid your system being overloaded, please further tune the variable for optimal performance in your application as needed. \n",
      "W0518 13:52:54.965000 43619 site-packages/torch/distributed/run.py:766] *****************************************\n",
      "[W518 13:52:54.044864284 socket.cpp:755] [c10d] The client socket cannot be initialized to connect to [localhost]:29500 (errno: 97 - Address family not supported by protocol).\n",
      "[W518 13:52:56.230635954 socket.cpp:755] [c10d] The client socket cannot be initialized to connect to [localhost]:29500 (errno: 97 - Address family not supported by protocol).\n",
      "[W518 13:52:56.231561212 socket.cpp:755] [c10d] The client socket cannot be initialized to connect to [localhost]:29500 (errno: 97 - Address family not supported by protocol).\n",
      "[GPU: 1] Epoch: 0 | Batchsize: 32 | Steps: 32[GPU: 0] Epoch: 0 | Batchsize: 32 | Steps: 32\n",
      "\n",
      "[GPU: 1] Epoch: 1 | Batchsize: 32 | Steps: 32\n",
      "[GPU: 0] Epoch: 1 | Batchsize: 32 | Steps: 32\n",
      "[GPU: 1] Epoch: 2 | Batchsize: 32 | Steps: 32\n",
      "[GPU: 0] Epoch: 2 | Batchsize: 32 | Steps: 32\n",
      "[GPU: 1] Epoch: 3 | Batchsize: 32 | Steps: 32\n",
      "[GPU: 0] Epoch: 3 | Batchsize: 32 | Steps: 32\n",
      "[GPU: 1] Epoch: 4 | Batchsize: 32 | Steps: 32\n",
      "[GPU: 0] Epoch: 4 | Batchsize: 32 | Steps: 32\n"
     ]
    }
   ],
   "source": [
    "!torchrun --nproc-per-node=2 ddp_gpus_torchrun.py --max_epochs 5 --batch_size 32"
   ]
  },
  {
   "cell_type": "code",
   "execution_count": 16,
   "id": "5e08158e",
   "metadata": {
    "ExecuteTime": {
     "end_time": "2023-06-04T11:09:43.695387Z",
     "start_time": "2023-06-04T11:09:37.052267Z"
    }
   },
   "outputs": [
    {
     "name": "stdout",
     "output_type": "stream",
     "text": [
      "/disk2/futianhao/software2/all_conda_env/main_path_conda/envs/fth-pytorch-gpu-env/lib/python3.10/site-packages/torch/distributed/launch.py:207: FutureWarning: The module torch.distributed.launch is deprecated\n",
      "and will be removed in future. Use torchrun.\n",
      "Note that --use-env is set by default in torchrun.\n",
      "If your script expects `--local-rank` argument to be set, please\n",
      "change it to read from `os.environ['LOCAL_RANK']` instead. See \n",
      "https://pytorch.org/docs/stable/distributed.html#launch-utility for \n",
      "further instructions\n",
      "\n",
      "  main()\n",
      "W0518 13:53:03.041000 46459 site-packages/torch/distributed/run.py:766] \n",
      "W0518 13:53:03.041000 46459 site-packages/torch/distributed/run.py:766] *****************************************\n",
      "W0518 13:53:03.041000 46459 site-packages/torch/distributed/run.py:766] Setting OMP_NUM_THREADS environment variable for each process to be 1 in default, to avoid your system being overloaded, please further tune the variable for optimal performance in your application as needed. \n",
      "W0518 13:53:03.041000 46459 site-packages/torch/distributed/run.py:766] *****************************************\n",
      "[W518 13:53:03.121082584 socket.cpp:755] [c10d] The client socket cannot be initialized to connect to [::ffff:127.0.0.1]:29500 (errno: 97 - Address family not supported by protocol).\n",
      "[W518 13:53:04.522637221 socket.cpp:755] [c10d] The client socket cannot be initialized to connect to [localhost]:29500 (errno: 97 - Address family not supported by protocol).\n",
      "[W518 13:53:04.530075399 socket.cpp:755] [c10d] The client socket cannot be initialized to connect to [::ffff:127.0.0.1]:29500 (errno: 97 - Address family not supported by protocol).\n",
      "[GPU: 1] Epoch: 0 | Batchsize: 32 | Steps: 32[GPU: 0] Epoch: 0 | Batchsize: 32 | Steps: 32\n",
      "\n",
      "[GPU: 1] Epoch: 1 | Batchsize: 32 | Steps: 32\n",
      "[GPU: 0] Epoch: 1 | Batchsize: 32 | Steps: 32\n",
      "[GPU: 1] Epoch: 2 | Batchsize: 32 | Steps: 32\n",
      "[GPU: 0] Epoch: 2 | Batchsize: 32 | Steps: 32\n",
      "[GPU: 1] Epoch: 3 | Batchsize: 32 | Steps: 32\n",
      "[GPU: 0] Epoch: 3 | Batchsize: 32 | Steps: 32\n",
      "[GPU: 1] Epoch: 4 | Batchsize: 32 | Steps: 32\n",
      "[GPU: 0] Epoch: 4 | Batchsize: 32 | Steps: 32\n"
     ]
    }
   ],
   "source": [
    "!python -m torch.distributed.launch --use-env --nproc-per-node=2 ddp_gpus_torchrun.py --max_epochs 5 --batch_size 32"
   ]
  }
 ],
 "metadata": {
  "kernelspec": {
   "display_name": "fth-pytorch-gpu-env",
   "language": "python",
   "name": "python3"
  },
  "language_info": {
   "codemirror_mode": {
    "name": "ipython",
    "version": 3
   },
   "file_extension": ".py",
   "mimetype": "text/x-python",
   "name": "python",
   "nbconvert_exporter": "python",
   "pygments_lexer": "ipython3",
   "version": "3.10.17"
  },
  "toc": {
   "base_numbering": 1,
   "nav_menu": {},
   "number_sections": true,
   "sideBar": true,
   "skip_h1_title": false,
   "title_cell": "Table of Contents",
   "title_sidebar": "Contents",
   "toc_cell": false,
   "toc_position": {
    "height": "calc(100% - 180px)",
    "left": "10px",
    "top": "150px",
    "width": "246px"
   },
   "toc_section_display": true,
   "toc_window_display": true
  }
 },
 "nbformat": 4,
 "nbformat_minor": 5
}
