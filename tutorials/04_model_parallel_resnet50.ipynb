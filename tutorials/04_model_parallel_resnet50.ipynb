{
 "cells": [
  {
   "cell_type": "markdown",
   "id": "95b4e641",
   "metadata": {},
   "source": [
    "- 参考\n",
    "    - https://pytorch.org/tutorials/intermediate/model_parallel_tutorial.html"
   ]
  },
  {
   "cell_type": "markdown",
   "id": "6659387c",
   "metadata": {},
   "source": [
    "## outline"
   ]
  },
  {
   "cell_type": "markdown",
   "id": "1201f0a0",
   "metadata": {
    "ExecuteTime": {
     "end_time": "2023-06-10T09:51:31.664206Z",
     "start_time": "2023-06-10T09:51:31.653752Z"
    }
   },
   "source": [
    "- 数据并行是切数据（scattering inputs and gathering outputs），模型并行是切模型（shards）；\n",
    "    - 模型并行：单卡放不下一份模型；\n",
    "    - 将一份大模型，不同的层s切分到不同的卡上；\n",
    "- device_map：Huggingface\n",
    "- 模型并行 on ToyModel\n",
    "- 模型并行：on ResNet\n",
    "    - 不需要引入额外的 torch api 支持；"
   ]
  },
  {
   "cell_type": "markdown",
   "id": "a6007bbf",
   "metadata": {},
   "source": [
    "## huggingface 的支持"
   ]
  },
  {
   "cell_type": "markdown",
   "id": "959e0248",
   "metadata": {},
   "source": [
    "### device_map"
   ]
  },
  {
   "cell_type": "markdown",
   "id": "cb03b78b",
   "metadata": {},
   "source": [
    "\n",
    "```\n",
    "\"auto\", \"balanced\", \"balanced_low_0\", \"sequential\"\n",
    "```\n",
    "\n",
    "- `auto`\n",
    "    - GPU(s) > CPU (RAM) > Disk."
   ]
  },
  {
   "cell_type": "code",
   "execution_count": 26,
   "id": "09d5a4c9",
   "metadata": {
    "ExecuteTime": {
     "end_time": "2023-06-10T10:54:05.602719Z",
     "start_time": "2023-06-10T10:53:50.155859Z"
    }
   },
   "outputs": [
    {
     "name": "stderr",
     "output_type": "stream",
     "text": [
      "The `load_in_4bit` and `load_in_8bit` arguments are deprecated and will be removed in the future versions. Please, pass a `BitsAndBytesConfig` object in `quantization_config` argument instead.\n",
      "Loading checkpoint shards: 100%|██████████| 2/2 [00:02<00:00,  1.18s/it]"
     ]
    },
    {
     "name": "stdout",
     "output_type": "stream",
     "text": [
      "0, \t cuda:0 \ttorch.float16\n",
      "1, \t cuda:0 \ttorch.int8\n",
      "2, \t cuda:0 \ttorch.int8\n",
      "3, \t cuda:0 \ttorch.int8\n",
      "4, \t cuda:0 \ttorch.int8\n",
      "5, \t cuda:0 \ttorch.int8\n",
      "6, \t cuda:0 \ttorch.int8\n",
      "7, \t cuda:0 \ttorch.int8\n",
      "8, \t cuda:0 \ttorch.float16\n",
      "9, \t cuda:0 \ttorch.float16\n",
      "10, \t cuda:0 \ttorch.int8\n",
      "11, \t cuda:0 \ttorch.int8\n",
      "12, \t cuda:0 \ttorch.int8\n",
      "13, \t cuda:0 \ttorch.int8\n",
      "14, \t cuda:0 \ttorch.int8\n",
      "15, \t cuda:0 \ttorch.int8\n",
      "16, \t cuda:0 \ttorch.int8\n",
      "17, \t cuda:0 \ttorch.float16\n",
      "18, \t cuda:0 \ttorch.float16\n",
      "19, \t cuda:0 \ttorch.int8\n",
      "20, \t cuda:0 \ttorch.int8\n",
      "21, \t cuda:0 \ttorch.int8\n",
      "22, \t cuda:0 \ttorch.int8\n",
      "23, \t cuda:0 \ttorch.int8\n",
      "24, \t cuda:0 \ttorch.int8\n",
      "25, \t cuda:0 \ttorch.int8\n",
      "26, \t cuda:0 \ttorch.float16\n",
      "27, \t cuda:0 \ttorch.float16\n",
      "28, \t cuda:1 \ttorch.int8\n",
      "29, \t cuda:1 \ttorch.int8\n",
      "30, \t cuda:1 \ttorch.int8\n",
      "31, \t cuda:1 \ttorch.int8\n",
      "32, \t cuda:1 \ttorch.int8\n",
      "33, \t cuda:1 \ttorch.int8\n",
      "34, \t cuda:1 \ttorch.int8\n",
      "35, \t cuda:1 \ttorch.float16\n",
      "36, \t cuda:1 \ttorch.float16\n",
      "37, \t cuda:1 \ttorch.int8\n",
      "38, \t cuda:1 \ttorch.int8\n",
      "39, \t cuda:1 \ttorch.int8\n",
      "40, \t cuda:1 \ttorch.int8\n",
      "41, \t cuda:1 \ttorch.int8\n",
      "42, \t cuda:1 \ttorch.int8\n",
      "43, \t cuda:1 \ttorch.int8\n",
      "44, \t cuda:1 \ttorch.float16\n",
      "45, \t cuda:1 \ttorch.float16\n",
      "46, \t cuda:1 \ttorch.int8\n",
      "47, \t cuda:1 \ttorch.int8\n",
      "48, \t cuda:1 \ttorch.int8\n",
      "49, \t cuda:1 \ttorch.int8\n",
      "50, \t cuda:1 \ttorch.int8\n",
      "51, \t cuda:1 \ttorch.int8\n",
      "52, \t cuda:1 \ttorch.int8\n",
      "53, \t cuda:1 \ttorch.float16\n",
      "54, \t cuda:1 \ttorch.float16\n",
      "55, \t cuda:1 \ttorch.int8\n",
      "56, \t cuda:1 \ttorch.int8\n",
      "57, \t cuda:1 \ttorch.int8\n",
      "58, \t cuda:1 \ttorch.int8\n",
      "59, \t cuda:1 \ttorch.int8\n",
      "60, \t cuda:1 \ttorch.int8\n",
      "61, \t cuda:1 \ttorch.int8\n",
      "62, \t cuda:1 \ttorch.float16\n",
      "63, \t cuda:1 \ttorch.float16\n",
      "64, \t cuda:2 \ttorch.int8\n",
      "65, \t cuda:2 \ttorch.int8\n",
      "66, \t cuda:2 \ttorch.int8\n",
      "67, \t cuda:2 \ttorch.int8\n",
      "68, \t cuda:2 \ttorch.int8\n",
      "69, \t cuda:2 \ttorch.int8\n",
      "70, \t cuda:2 \ttorch.int8\n",
      "71, \t cuda:2 \ttorch.float16\n",
      "72, \t cuda:2 \ttorch.float16\n",
      "73, \t cuda:2 \ttorch.int8\n",
      "74, \t cuda:2 \ttorch.int8\n",
      "75, \t cuda:2 \ttorch.int8\n",
      "76, \t cuda:2 \ttorch.int8\n",
      "77, \t cuda:2 \ttorch.int8\n",
      "78, \t cuda:2 \ttorch.int8\n",
      "79, \t cuda:2 \ttorch.int8\n",
      "80, \t cuda:2 \ttorch.float16\n",
      "81, \t cuda:2 \ttorch.float16\n",
      "82, \t cuda:2 \ttorch.int8\n",
      "83, \t cuda:2 \ttorch.int8\n",
      "84, \t cuda:2 \ttorch.int8\n",
      "85, \t cuda:2 \ttorch.int8\n",
      "86, \t cuda:2 \ttorch.int8\n",
      "87, \t cuda:2 \ttorch.int8\n",
      "88, \t cuda:2 \ttorch.int8\n",
      "89, \t cuda:2 \ttorch.float16\n",
      "90, \t cuda:2 \ttorch.float16\n",
      "91, \t cuda:2 \ttorch.int8\n",
      "92, \t cuda:2 \ttorch.int8\n",
      "93, \t cuda:2 \ttorch.int8\n",
      "94, \t cuda:2 \ttorch.int8\n",
      "95, \t cuda:2 \ttorch.int8\n",
      "96, \t cuda:2 \ttorch.int8\n",
      "97, \t cuda:2 \ttorch.int8\n",
      "98, \t cuda:2 \ttorch.float16\n",
      "99, \t cuda:2 \ttorch.float16\n",
      "100, \t cuda:3 \ttorch.int8\n",
      "101, \t cuda:3 \ttorch.int8\n",
      "102, \t cuda:3 \ttorch.int8\n",
      "103, \t cuda:3 \ttorch.int8\n",
      "104, \t cuda:3 \ttorch.int8\n",
      "105, \t cuda:3 \ttorch.int8\n",
      "106, \t cuda:3 \ttorch.int8\n",
      "107, \t cuda:3 \ttorch.float16\n",
      "108, \t cuda:3 \ttorch.float16\n",
      "109, \t cuda:3 \ttorch.int8\n",
      "110, \t cuda:3 \ttorch.int8\n",
      "111, \t cuda:3 \ttorch.int8\n",
      "112, \t cuda:3 \ttorch.int8\n",
      "113, \t cuda:3 \ttorch.int8\n",
      "114, \t cuda:3 \ttorch.int8\n",
      "115, \t cuda:3 \ttorch.int8\n",
      "116, \t cuda:3 \ttorch.float16\n",
      "117, \t cuda:3 \ttorch.float16\n",
      "118, \t cuda:3 \ttorch.int8\n",
      "119, \t cuda:3 \ttorch.int8\n",
      "120, \t cuda:3 \ttorch.int8\n",
      "121, \t cuda:3 \ttorch.int8\n",
      "122, \t cuda:3 \ttorch.int8\n",
      "123, \t cuda:3 \ttorch.int8\n",
      "124, \t cuda:3 \ttorch.int8\n",
      "125, \t cuda:3 \ttorch.float16\n",
      "126, \t cuda:3 \ttorch.float16\n",
      "127, \t cuda:3 \ttorch.int8\n",
      "128, \t cuda:3 \ttorch.int8\n",
      "129, \t cuda:3 \ttorch.int8\n",
      "130, \t cuda:3 \ttorch.int8\n",
      "131, \t cuda:3 \ttorch.int8\n",
      "132, \t cuda:3 \ttorch.int8\n",
      "133, \t cuda:3 \ttorch.int8\n",
      "134, \t cuda:3 \ttorch.float16\n",
      "135, \t cuda:3 \ttorch.float16\n",
      "136, \t cuda:4 \ttorch.int8\n",
      "137, \t cuda:4 \ttorch.int8\n",
      "138, \t cuda:4 \ttorch.int8\n",
      "139, \t cuda:4 \ttorch.int8\n",
      "140, \t cuda:4 \ttorch.int8\n",
      "141, \t cuda:4 \ttorch.int8\n",
      "142, \t cuda:4 \ttorch.int8\n",
      "143, \t cuda:4 \ttorch.float16\n",
      "144, \t cuda:4 \ttorch.float16\n",
      "145, \t cuda:4 \ttorch.int8\n",
      "146, \t cuda:4 \ttorch.int8\n",
      "147, \t cuda:4 \ttorch.int8\n",
      "148, \t cuda:4 \ttorch.int8\n",
      "149, \t cuda:4 \ttorch.int8\n",
      "150, \t cuda:4 \ttorch.int8\n",
      "151, \t cuda:4 \ttorch.int8\n",
      "152, \t cuda:4 \ttorch.float16\n",
      "153, \t cuda:4 \ttorch.float16\n",
      "154, \t cuda:4 \ttorch.int8\n",
      "155, \t cuda:4 \ttorch.int8\n",
      "156, \t cuda:4 \ttorch.int8\n",
      "157, \t cuda:4 \ttorch.int8\n",
      "158, \t cuda:4 \ttorch.int8\n",
      "159, \t cuda:4 \ttorch.int8\n",
      "160, \t cuda:4 \ttorch.int8\n",
      "161, \t cuda:4 \ttorch.float16\n",
      "162, \t cuda:4 \ttorch.float16\n",
      "163, \t cuda:4 \ttorch.int8\n",
      "164, \t cuda:4 \ttorch.int8\n",
      "165, \t cuda:4 \ttorch.int8\n",
      "166, \t cuda:4 \ttorch.int8\n",
      "167, \t cuda:4 \ttorch.int8\n",
      "168, \t cuda:4 \ttorch.int8\n",
      "169, \t cuda:4 \ttorch.int8\n",
      "170, \t cuda:4 \ttorch.float16\n",
      "171, \t cuda:4 \ttorch.float16\n",
      "172, \t cuda:5 \ttorch.int8\n",
      "173, \t cuda:5 \ttorch.int8\n",
      "174, \t cuda:5 \ttorch.int8\n",
      "175, \t cuda:5 \ttorch.int8\n",
      "176, \t cuda:5 \ttorch.int8\n",
      "177, \t cuda:5 \ttorch.int8\n",
      "178, \t cuda:5 \ttorch.int8\n",
      "179, \t cuda:5 \ttorch.float16\n",
      "180, \t cuda:5 \ttorch.float16\n",
      "181, \t cuda:5 \ttorch.int8\n",
      "182, \t cuda:5 \ttorch.int8\n",
      "183, \t cuda:5 \ttorch.int8\n",
      "184, \t cuda:5 \ttorch.int8\n",
      "185, \t cuda:5 \ttorch.int8\n",
      "186, \t cuda:5 \ttorch.int8\n",
      "187, \t cuda:5 \ttorch.int8\n",
      "188, \t cuda:5 \ttorch.float16\n",
      "189, \t cuda:5 \ttorch.float16\n",
      "190, \t cuda:5 \ttorch.int8\n",
      "191, \t cuda:5 \ttorch.int8\n",
      "192, \t cuda:5 \ttorch.int8\n",
      "193, \t cuda:5 \ttorch.int8\n",
      "194, \t cuda:5 \ttorch.int8\n",
      "195, \t cuda:5 \ttorch.int8\n",
      "196, \t cuda:5 \ttorch.int8\n",
      "197, \t cuda:5 \ttorch.float16\n",
      "198, \t cuda:5 \ttorch.float16\n",
      "199, \t cuda:5 \ttorch.int8\n",
      "200, \t cuda:5 \ttorch.int8\n",
      "201, \t cuda:5 \ttorch.int8\n",
      "202, \t cuda:5 \ttorch.int8\n",
      "203, \t cuda:5 \ttorch.int8\n",
      "204, \t cuda:5 \ttorch.int8\n",
      "205, \t cuda:5 \ttorch.int8\n",
      "206, \t cuda:5 \ttorch.float16\n",
      "207, \t cuda:5 \ttorch.float16\n",
      "208, \t cuda:6 \ttorch.int8\n",
      "209, \t cuda:6 \ttorch.int8\n",
      "210, \t cuda:6 \ttorch.int8\n",
      "211, \t cuda:6 \ttorch.int8\n",
      "212, \t cuda:6 \ttorch.int8\n",
      "213, \t cuda:6 \ttorch.int8\n",
      "214, \t cuda:6 \ttorch.int8\n",
      "215, \t cuda:6 \ttorch.float16\n",
      "216, \t cuda:6 \ttorch.float16\n",
      "217, \t cuda:6 \ttorch.int8\n",
      "218, \t cuda:6 \ttorch.int8\n",
      "219, \t cuda:6 \ttorch.int8\n",
      "220, \t cuda:6 \ttorch.int8\n",
      "221, \t cuda:6 \ttorch.int8\n",
      "222, \t cuda:6 \ttorch.int8\n",
      "223, \t cuda:6 \ttorch.int8\n",
      "224, \t cuda:6 \ttorch.float16\n",
      "225, \t cuda:6 \ttorch.float16\n",
      "226, \t cuda:6 \ttorch.int8\n",
      "227, \t cuda:6 \ttorch.int8\n",
      "228, \t cuda:6 \ttorch.int8\n",
      "229, \t cuda:6 \ttorch.int8\n",
      "230, \t cuda:6 \ttorch.int8\n",
      "231, \t cuda:6 \ttorch.int8\n",
      "232, \t cuda:6 \ttorch.int8\n",
      "233, \t cuda:6 \ttorch.float16\n",
      "234, \t cuda:6 \ttorch.float16\n",
      "235, \t cuda:6 \ttorch.int8\n",
      "236, \t cuda:6 \ttorch.int8\n",
      "237, \t cuda:6 \ttorch.int8\n",
      "238, \t cuda:6 \ttorch.int8\n",
      "239, \t cuda:6 \ttorch.int8\n",
      "240, \t cuda:6 \ttorch.int8\n",
      "241, \t cuda:6 \ttorch.int8\n",
      "242, \t cuda:6 \ttorch.float16\n",
      "243, \t cuda:6 \ttorch.float16\n",
      "244, \t cuda:7 \ttorch.int8\n",
      "245, \t cuda:7 \ttorch.int8\n",
      "246, \t cuda:7 \ttorch.int8\n",
      "247, \t cuda:7 \ttorch.int8\n",
      "248, \t cuda:7 \ttorch.int8\n",
      "249, \t cuda:7 \ttorch.int8\n",
      "250, \t cuda:7 \ttorch.int8\n",
      "251, \t cuda:7 \ttorch.float16\n",
      "252, \t cuda:7 \ttorch.float16\n",
      "253, \t cuda:7 \ttorch.int8\n",
      "254, \t cuda:7 \ttorch.int8\n",
      "255, \t cuda:7 \ttorch.int8\n",
      "256, \t cuda:7 \ttorch.int8\n",
      "257, \t cuda:7 \ttorch.int8\n",
      "258, \t cuda:7 \ttorch.int8\n",
      "259, \t cuda:7 \ttorch.int8\n",
      "260, \t cuda:7 \ttorch.float16\n",
      "261, \t cuda:7 \ttorch.float16\n",
      "262, \t cuda:7 \ttorch.int8\n",
      "263, \t cuda:7 \ttorch.int8\n",
      "264, \t cuda:7 \ttorch.int8\n",
      "265, \t cuda:7 \ttorch.int8\n",
      "266, \t cuda:7 \ttorch.int8\n",
      "267, \t cuda:7 \ttorch.int8\n",
      "268, \t cuda:7 \ttorch.int8\n",
      "269, \t cuda:7 \ttorch.float16\n",
      "270, \t cuda:7 \ttorch.float16\n",
      "271, \t cuda:7 \ttorch.int8\n",
      "272, \t cuda:7 \ttorch.int8\n",
      "273, \t cuda:7 \ttorch.int8\n",
      "274, \t cuda:7 \ttorch.int8\n",
      "275, \t cuda:7 \ttorch.int8\n",
      "276, \t cuda:7 \ttorch.int8\n",
      "277, \t cuda:7 \ttorch.int8\n",
      "278, \t cuda:7 \ttorch.float16\n",
      "279, \t cuda:7 \ttorch.float16\n",
      "280, \t cuda:7 \ttorch.int8\n",
      "281, \t cuda:7 \ttorch.int8\n",
      "282, \t cuda:7 \ttorch.int8\n",
      "283, \t cuda:7 \ttorch.int8\n",
      "284, \t cuda:7 \ttorch.int8\n",
      "285, \t cuda:7 \ttorch.int8\n",
      "286, \t cuda:7 \ttorch.int8\n",
      "287, \t cuda:7 \ttorch.float16\n",
      "288, \t cuda:7 \ttorch.float16\n",
      "289, \t cuda:7 \ttorch.float16\n",
      "290, \t cuda:7 \ttorch.float16\n"
     ]
    },
    {
     "name": "stderr",
     "output_type": "stream",
     "text": [
      "\n"
     ]
    }
   ],
   "source": [
    "from transformers import LlamaTokenizer, LlamaForCausalLM, GenerationConfig\n",
    "# /disk2/modelscope/Llama-2-7b-hf\n",
    "# model = LlamaForCausalLM.from_pretrained(\"decapoda-research/llama-7b-hf\",\n",
    "#     load_in_8bit=True,\n",
    "#     device_map=\"auto\",\n",
    "# )\n",
    "model = LlamaForCausalLM.from_pretrained(\"/disk2/modelscope/Llama-2-7b-hf\",\n",
    "    load_in_8bit=True,\n",
    "    device_map=\"auto\",\n",
    ")\n",
    "for i, para in enumerate(model.named_parameters()):\n",
    "#     print(f'{i}, {para[0]}\\t {para[1].device} \\t{para[1].dtype}')\n",
    "    print(f'{i}, \\t {para[1].device} \\t{para[1].dtype}')"
   ]
  },
  {
   "cell_type": "code",
   "execution_count": null,
   "id": "20912f2f",
   "metadata": {},
   "outputs": [],
   "source": [
    "# # 导入必要的库：LlamaTokenizer（分词器）、LlamaForCausalLM（模型）、GenerationConfig（生成配置）\n",
    "# from transformers import LlamaTokenizer, LlamaForCausalLM, GenerationConfig\n",
    "\n",
    "# # 注释说明模型路径为 \"/disk2/modelscope/Llama-2-7b-hf\"\n",
    "# # 如果使用远程模型，原语句是：\n",
    "# # model = LlamaForCausalLM.from_pretrained(\"decapoda-research/llama-7b-hf\",\n",
    "# #     load_in_8bit=True,\n",
    "# #     device_map=\"auto\",\n",
    "# # )\n",
    "\n",
    "# # 从本地路径加载 Llama-2-7b 模型，并启用 8-bit 量化（节省显存），自动分配设备（多 GPU 分布式加载）\n",
    "# model = LlamaForCausalLM.from_pretrained(\"/disk2/modelscope/Llama-2-7b-hf\",\n",
    "#     load_in_8bit=True,\n",
    "#     device_map=\"auto\",\n",
    "# )\n",
    "\n",
    "# # 遍历模型的所有参数，打印参数索引、所在设备和数据类型\n",
    "# for i, para in enumerate(model.named_parameters()):\n",
    "#     # 打印格式：参数编号，参数所在的设备（如 cuda:0）和参数的数据类型（如 torch.float16）\n",
    "#     print(f'{i}, \\t {para[1].device} \\t{para[1].dtype}')"
   ]
  },
  {
   "cell_type": "markdown",
   "id": "9af9c394",
   "metadata": {},
   "source": [
    "## toy example"
   ]
  },
  {
   "cell_type": "code",
   "execution_count": 27,
   "id": "3eb32a1e",
   "metadata": {
    "ExecuteTime": {
     "end_time": "2023-06-10T10:55:22.734083Z",
     "start_time": "2023-06-10T10:55:21.401055Z"
    }
   },
   "outputs": [],
   "source": [
    "import torch\n",
    "import torch.nn as nn\n",
    "import torch.optim as optim\n",
    "\n",
    "\n",
    "class ToyModel(nn.Module):\n",
    "    def __init__(self):\n",
    "        super(ToyModel, self).__init__()\n",
    "        self.net1 = torch.nn.Linear(10000, 10).to('cuda:0')\n",
    "        self.relu = torch.nn.ReLU()\n",
    "        self.net2 = torch.nn.Linear(10, 5).to('cuda:1')\n",
    "\n",
    "    def forward(self, x):\n",
    "        x = self.relu(self.net1(x.to('cuda:0')))\n",
    "        return self.net2(x.to('cuda:1'))\n"
   ]
  },
  {
   "cell_type": "code",
   "execution_count": null,
   "id": "ab0b2a30",
   "metadata": {},
   "outputs": [],
   "source": [
    "import torch  # 导入 PyTorch 库，用于构建和训练深度学习模型\n",
    "import torch.nn as nn  # 导入神经网络模块\n",
    "import torch.optim as optim  # 导入优化器模块，用于参数更新\n",
    "\n",
    "\n",
    "class ToyModel(nn.Module):\n",
    "    def __init__(self):\n",
    "        super(ToyModel, self).__init__()  \n",
    "        # 调用父类 nn.Module 的构造函数。super() 函数的作用是调用父类的方法。\n",
    "        # 这里使用的是 Python 2 风格的 super 写法，在 Python 3 中也可以简写为 super().__init__()\n",
    "        # 在 PyTorch 中，所有自定义模型都应继承 nn.Module 并调用其初始化方法。\n",
    "\n",
    "        self.net1 = torch.nn.Linear(10000, 10).to('cuda:0')  \n",
    "        # 定义一个线性层（全连接层），输入维度为 10000，输出维度为 10，并将其移动到 GPU 0 上\n",
    "\n",
    "        self.relu = torch.nn.ReLU()  \n",
    "        # 定义 ReLU 激活函数层\n",
    "\n",
    "        self.net2 = torch.nn.Linear(10, 5).to('cuda:1')  \n",
    "        # 定义另一个线性层，输入维度为 10，输出维度为 5，并将其移动到 GPU 1 上\n",
    "\n",
    "    def forward(self, x):\n",
    "        x = self.relu(self.net1(x.to('cuda:0')))  \n",
    "        # 将输入张量移动到 GPU 0，经过 net1 层处理后，通过 ReLU 激活函数\n",
    "        return self.net2(x.to('cuda:1'))  \n",
    "        # 将中间结果张量移动到 GPU 1，再经过 net2 层处理，返回最终输出"
   ]
  },
  {
   "cell_type": "code",
   "execution_count": 28,
   "id": "c10c8ac6",
   "metadata": {
    "ExecuteTime": {
     "end_time": "2023-06-10T10:56:43.186416Z",
     "start_time": "2023-06-10T10:56:42.132385Z"
    }
   },
   "outputs": [],
   "source": [
    "# watch -n 1 nvidia-smi\n",
    "model = ToyModel()"
   ]
  },
  {
   "cell_type": "code",
   "execution_count": 29,
   "id": "3cd8176a",
   "metadata": {
    "ExecuteTime": {
     "end_time": "2023-06-10T10:57:16.966789Z",
     "start_time": "2023-06-10T10:57:16.956120Z"
    }
   },
   "outputs": [
    {
     "data": {
      "text/plain": [
       "torch.nn.parameter.Parameter"
      ]
     },
     "execution_count": 29,
     "metadata": {},
     "output_type": "execute_result"
    }
   ],
   "source": [
    "type(list(model.net1.parameters())[0])"
   ]
  },
  {
   "cell_type": "code",
   "execution_count": 30,
   "id": "5515ad52",
   "metadata": {
    "ExecuteTime": {
     "end_time": "2023-06-10T10:57:25.079872Z",
     "start_time": "2023-06-10T10:57:25.070508Z"
    }
   },
   "outputs": [
    {
     "name": "stdout",
     "output_type": "stream",
     "text": [
      "cuda:0\n",
      "cuda:1\n"
     ]
    }
   ],
   "source": [
    "print(next(model.net1.parameters()).device)\n",
    "print(next(model.net2.parameters()).device)"
   ]
  },
  {
   "cell_type": "code",
   "execution_count": 31,
   "id": "82e1999c",
   "metadata": {
    "ExecuteTime": {
     "end_time": "2023-06-10T10:57:39.312339Z",
     "start_time": "2023-06-10T10:57:39.205305Z"
    }
   },
   "outputs": [],
   "source": [
    "model = ToyModel()\n",
    "loss_fn = nn.MSELoss()\n",
    "optimizer = optim.SGD(model.parameters(), lr=0.001)\n",
    "\n",
    "optimizer.zero_grad()\n",
    "outputs = model(torch.randn(20, 10000))\n",
    "labels = torch.randn(20, 5).to('cuda:1')\n",
    "loss_fn(outputs, labels).backward()\n",
    "optimizer.step()"
   ]
  },
  {
   "cell_type": "markdown",
   "id": "cf4662c7",
   "metadata": {},
   "source": [
    "## split ResNet"
   ]
  },
  {
   "cell_type": "markdown",
   "id": "ccb1e1e0",
   "metadata": {},
   "source": [
    "- 简单介绍下 ResNet\n",
    "\n",
    "```\n",
    "model = ResNet(block, layers, **kwargs)\n",
    "\n",
    "# resnet18\n",
    "_resnet(BasicBlock, [2, 2, 2, 2])\n",
    "# resnet34\n",
    "_resnet(BasicBlock, [3, 4, 6, 3])\n",
    "\n",
    "# resnet50\n",
    "_resnet(Bottleneck, [3, 4, 6, 3])\n",
    "# resnet101\n",
    "_resnet(Bottleneck, [3, 4, 23, 3])\n",
    "# resnet152\n",
    "_resnet(Bottleneck, [3, 8, 36, 3])\n",
    "```"
   ]
  },
  {
   "cell_type": "code",
   "execution_count": 32,
   "id": "593d7bcd",
   "metadata": {
    "ExecuteTime": {
     "end_time": "2023-06-10T10:59:32.643357Z",
     "start_time": "2023-06-10T10:59:32.420118Z"
    }
   },
   "outputs": [],
   "source": [
    "import torch\n",
    "from torch import nn\n",
    "from torchvision.models.resnet import ResNet, Bottleneck\n",
    "# from torchvision.models.resnet import resnet18, resnet34, resnet50, resnet101, resnet152"
   ]
  },
  {
   "cell_type": "code",
   "execution_count": 33,
   "id": "b9b2daab",
   "metadata": {
    "ExecuteTime": {
     "end_time": "2023-06-10T10:59:37.319217Z",
     "start_time": "2023-06-10T10:59:36.895405Z"
    }
   },
   "outputs": [],
   "source": [
    "# resnet50\n",
    "model = ResNet(Bottleneck, [3, 4, 6, 3])"
   ]
  },
  {
   "cell_type": "code",
   "execution_count": 34,
   "id": "05996879",
   "metadata": {
    "ExecuteTime": {
     "end_time": "2023-06-10T10:59:40.283916Z",
     "start_time": "2023-06-10T10:59:40.274490Z"
    },
    "collapsed": true
   },
   "outputs": [
    {
     "data": {
      "text/plain": [
       "ResNet(\n",
       "  (conv1): Conv2d(3, 64, kernel_size=(7, 7), stride=(2, 2), padding=(3, 3), bias=False)\n",
       "  (bn1): BatchNorm2d(64, eps=1e-05, momentum=0.1, affine=True, track_running_stats=True)\n",
       "  (relu): ReLU(inplace=True)\n",
       "  (maxpool): MaxPool2d(kernel_size=3, stride=2, padding=1, dilation=1, ceil_mode=False)\n",
       "  (layer1): Sequential(\n",
       "    (0): Bottleneck(\n",
       "      (conv1): Conv2d(64, 64, kernel_size=(1, 1), stride=(1, 1), bias=False)\n",
       "      (bn1): BatchNorm2d(64, eps=1e-05, momentum=0.1, affine=True, track_running_stats=True)\n",
       "      (conv2): Conv2d(64, 64, kernel_size=(3, 3), stride=(1, 1), padding=(1, 1), bias=False)\n",
       "      (bn2): BatchNorm2d(64, eps=1e-05, momentum=0.1, affine=True, track_running_stats=True)\n",
       "      (conv3): Conv2d(64, 256, kernel_size=(1, 1), stride=(1, 1), bias=False)\n",
       "      (bn3): BatchNorm2d(256, eps=1e-05, momentum=0.1, affine=True, track_running_stats=True)\n",
       "      (relu): ReLU(inplace=True)\n",
       "      (downsample): Sequential(\n",
       "        (0): Conv2d(64, 256, kernel_size=(1, 1), stride=(1, 1), bias=False)\n",
       "        (1): BatchNorm2d(256, eps=1e-05, momentum=0.1, affine=True, track_running_stats=True)\n",
       "      )\n",
       "    )\n",
       "    (1): Bottleneck(\n",
       "      (conv1): Conv2d(256, 64, kernel_size=(1, 1), stride=(1, 1), bias=False)\n",
       "      (bn1): BatchNorm2d(64, eps=1e-05, momentum=0.1, affine=True, track_running_stats=True)\n",
       "      (conv2): Conv2d(64, 64, kernel_size=(3, 3), stride=(1, 1), padding=(1, 1), bias=False)\n",
       "      (bn2): BatchNorm2d(64, eps=1e-05, momentum=0.1, affine=True, track_running_stats=True)\n",
       "      (conv3): Conv2d(64, 256, kernel_size=(1, 1), stride=(1, 1), bias=False)\n",
       "      (bn3): BatchNorm2d(256, eps=1e-05, momentum=0.1, affine=True, track_running_stats=True)\n",
       "      (relu): ReLU(inplace=True)\n",
       "    )\n",
       "    (2): Bottleneck(\n",
       "      (conv1): Conv2d(256, 64, kernel_size=(1, 1), stride=(1, 1), bias=False)\n",
       "      (bn1): BatchNorm2d(64, eps=1e-05, momentum=0.1, affine=True, track_running_stats=True)\n",
       "      (conv2): Conv2d(64, 64, kernel_size=(3, 3), stride=(1, 1), padding=(1, 1), bias=False)\n",
       "      (bn2): BatchNorm2d(64, eps=1e-05, momentum=0.1, affine=True, track_running_stats=True)\n",
       "      (conv3): Conv2d(64, 256, kernel_size=(1, 1), stride=(1, 1), bias=False)\n",
       "      (bn3): BatchNorm2d(256, eps=1e-05, momentum=0.1, affine=True, track_running_stats=True)\n",
       "      (relu): ReLU(inplace=True)\n",
       "    )\n",
       "  )\n",
       "  (layer2): Sequential(\n",
       "    (0): Bottleneck(\n",
       "      (conv1): Conv2d(256, 128, kernel_size=(1, 1), stride=(1, 1), bias=False)\n",
       "      (bn1): BatchNorm2d(128, eps=1e-05, momentum=0.1, affine=True, track_running_stats=True)\n",
       "      (conv2): Conv2d(128, 128, kernel_size=(3, 3), stride=(2, 2), padding=(1, 1), bias=False)\n",
       "      (bn2): BatchNorm2d(128, eps=1e-05, momentum=0.1, affine=True, track_running_stats=True)\n",
       "      (conv3): Conv2d(128, 512, kernel_size=(1, 1), stride=(1, 1), bias=False)\n",
       "      (bn3): BatchNorm2d(512, eps=1e-05, momentum=0.1, affine=True, track_running_stats=True)\n",
       "      (relu): ReLU(inplace=True)\n",
       "      (downsample): Sequential(\n",
       "        (0): Conv2d(256, 512, kernel_size=(1, 1), stride=(2, 2), bias=False)\n",
       "        (1): BatchNorm2d(512, eps=1e-05, momentum=0.1, affine=True, track_running_stats=True)\n",
       "      )\n",
       "    )\n",
       "    (1): Bottleneck(\n",
       "      (conv1): Conv2d(512, 128, kernel_size=(1, 1), stride=(1, 1), bias=False)\n",
       "      (bn1): BatchNorm2d(128, eps=1e-05, momentum=0.1, affine=True, track_running_stats=True)\n",
       "      (conv2): Conv2d(128, 128, kernel_size=(3, 3), stride=(1, 1), padding=(1, 1), bias=False)\n",
       "      (bn2): BatchNorm2d(128, eps=1e-05, momentum=0.1, affine=True, track_running_stats=True)\n",
       "      (conv3): Conv2d(128, 512, kernel_size=(1, 1), stride=(1, 1), bias=False)\n",
       "      (bn3): BatchNorm2d(512, eps=1e-05, momentum=0.1, affine=True, track_running_stats=True)\n",
       "      (relu): ReLU(inplace=True)\n",
       "    )\n",
       "    (2): Bottleneck(\n",
       "      (conv1): Conv2d(512, 128, kernel_size=(1, 1), stride=(1, 1), bias=False)\n",
       "      (bn1): BatchNorm2d(128, eps=1e-05, momentum=0.1, affine=True, track_running_stats=True)\n",
       "      (conv2): Conv2d(128, 128, kernel_size=(3, 3), stride=(1, 1), padding=(1, 1), bias=False)\n",
       "      (bn2): BatchNorm2d(128, eps=1e-05, momentum=0.1, affine=True, track_running_stats=True)\n",
       "      (conv3): Conv2d(128, 512, kernel_size=(1, 1), stride=(1, 1), bias=False)\n",
       "      (bn3): BatchNorm2d(512, eps=1e-05, momentum=0.1, affine=True, track_running_stats=True)\n",
       "      (relu): ReLU(inplace=True)\n",
       "    )\n",
       "    (3): Bottleneck(\n",
       "      (conv1): Conv2d(512, 128, kernel_size=(1, 1), stride=(1, 1), bias=False)\n",
       "      (bn1): BatchNorm2d(128, eps=1e-05, momentum=0.1, affine=True, track_running_stats=True)\n",
       "      (conv2): Conv2d(128, 128, kernel_size=(3, 3), stride=(1, 1), padding=(1, 1), bias=False)\n",
       "      (bn2): BatchNorm2d(128, eps=1e-05, momentum=0.1, affine=True, track_running_stats=True)\n",
       "      (conv3): Conv2d(128, 512, kernel_size=(1, 1), stride=(1, 1), bias=False)\n",
       "      (bn3): BatchNorm2d(512, eps=1e-05, momentum=0.1, affine=True, track_running_stats=True)\n",
       "      (relu): ReLU(inplace=True)\n",
       "    )\n",
       "  )\n",
       "  (layer3): Sequential(\n",
       "    (0): Bottleneck(\n",
       "      (conv1): Conv2d(512, 256, kernel_size=(1, 1), stride=(1, 1), bias=False)\n",
       "      (bn1): BatchNorm2d(256, eps=1e-05, momentum=0.1, affine=True, track_running_stats=True)\n",
       "      (conv2): Conv2d(256, 256, kernel_size=(3, 3), stride=(2, 2), padding=(1, 1), bias=False)\n",
       "      (bn2): BatchNorm2d(256, eps=1e-05, momentum=0.1, affine=True, track_running_stats=True)\n",
       "      (conv3): Conv2d(256, 1024, kernel_size=(1, 1), stride=(1, 1), bias=False)\n",
       "      (bn3): BatchNorm2d(1024, eps=1e-05, momentum=0.1, affine=True, track_running_stats=True)\n",
       "      (relu): ReLU(inplace=True)\n",
       "      (downsample): Sequential(\n",
       "        (0): Conv2d(512, 1024, kernel_size=(1, 1), stride=(2, 2), bias=False)\n",
       "        (1): BatchNorm2d(1024, eps=1e-05, momentum=0.1, affine=True, track_running_stats=True)\n",
       "      )\n",
       "    )\n",
       "    (1): Bottleneck(\n",
       "      (conv1): Conv2d(1024, 256, kernel_size=(1, 1), stride=(1, 1), bias=False)\n",
       "      (bn1): BatchNorm2d(256, eps=1e-05, momentum=0.1, affine=True, track_running_stats=True)\n",
       "      (conv2): Conv2d(256, 256, kernel_size=(3, 3), stride=(1, 1), padding=(1, 1), bias=False)\n",
       "      (bn2): BatchNorm2d(256, eps=1e-05, momentum=0.1, affine=True, track_running_stats=True)\n",
       "      (conv3): Conv2d(256, 1024, kernel_size=(1, 1), stride=(1, 1), bias=False)\n",
       "      (bn3): BatchNorm2d(1024, eps=1e-05, momentum=0.1, affine=True, track_running_stats=True)\n",
       "      (relu): ReLU(inplace=True)\n",
       "    )\n",
       "    (2): Bottleneck(\n",
       "      (conv1): Conv2d(1024, 256, kernel_size=(1, 1), stride=(1, 1), bias=False)\n",
       "      (bn1): BatchNorm2d(256, eps=1e-05, momentum=0.1, affine=True, track_running_stats=True)\n",
       "      (conv2): Conv2d(256, 256, kernel_size=(3, 3), stride=(1, 1), padding=(1, 1), bias=False)\n",
       "      (bn2): BatchNorm2d(256, eps=1e-05, momentum=0.1, affine=True, track_running_stats=True)\n",
       "      (conv3): Conv2d(256, 1024, kernel_size=(1, 1), stride=(1, 1), bias=False)\n",
       "      (bn3): BatchNorm2d(1024, eps=1e-05, momentum=0.1, affine=True, track_running_stats=True)\n",
       "      (relu): ReLU(inplace=True)\n",
       "    )\n",
       "    (3): Bottleneck(\n",
       "      (conv1): Conv2d(1024, 256, kernel_size=(1, 1), stride=(1, 1), bias=False)\n",
       "      (bn1): BatchNorm2d(256, eps=1e-05, momentum=0.1, affine=True, track_running_stats=True)\n",
       "      (conv2): Conv2d(256, 256, kernel_size=(3, 3), stride=(1, 1), padding=(1, 1), bias=False)\n",
       "      (bn2): BatchNorm2d(256, eps=1e-05, momentum=0.1, affine=True, track_running_stats=True)\n",
       "      (conv3): Conv2d(256, 1024, kernel_size=(1, 1), stride=(1, 1), bias=False)\n",
       "      (bn3): BatchNorm2d(1024, eps=1e-05, momentum=0.1, affine=True, track_running_stats=True)\n",
       "      (relu): ReLU(inplace=True)\n",
       "    )\n",
       "    (4): Bottleneck(\n",
       "      (conv1): Conv2d(1024, 256, kernel_size=(1, 1), stride=(1, 1), bias=False)\n",
       "      (bn1): BatchNorm2d(256, eps=1e-05, momentum=0.1, affine=True, track_running_stats=True)\n",
       "      (conv2): Conv2d(256, 256, kernel_size=(3, 3), stride=(1, 1), padding=(1, 1), bias=False)\n",
       "      (bn2): BatchNorm2d(256, eps=1e-05, momentum=0.1, affine=True, track_running_stats=True)\n",
       "      (conv3): Conv2d(256, 1024, kernel_size=(1, 1), stride=(1, 1), bias=False)\n",
       "      (bn3): BatchNorm2d(1024, eps=1e-05, momentum=0.1, affine=True, track_running_stats=True)\n",
       "      (relu): ReLU(inplace=True)\n",
       "    )\n",
       "    (5): Bottleneck(\n",
       "      (conv1): Conv2d(1024, 256, kernel_size=(1, 1), stride=(1, 1), bias=False)\n",
       "      (bn1): BatchNorm2d(256, eps=1e-05, momentum=0.1, affine=True, track_running_stats=True)\n",
       "      (conv2): Conv2d(256, 256, kernel_size=(3, 3), stride=(1, 1), padding=(1, 1), bias=False)\n",
       "      (bn2): BatchNorm2d(256, eps=1e-05, momentum=0.1, affine=True, track_running_stats=True)\n",
       "      (conv3): Conv2d(256, 1024, kernel_size=(1, 1), stride=(1, 1), bias=False)\n",
       "      (bn3): BatchNorm2d(1024, eps=1e-05, momentum=0.1, affine=True, track_running_stats=True)\n",
       "      (relu): ReLU(inplace=True)\n",
       "    )\n",
       "  )\n",
       "  (layer4): Sequential(\n",
       "    (0): Bottleneck(\n",
       "      (conv1): Conv2d(1024, 512, kernel_size=(1, 1), stride=(1, 1), bias=False)\n",
       "      (bn1): BatchNorm2d(512, eps=1e-05, momentum=0.1, affine=True, track_running_stats=True)\n",
       "      (conv2): Conv2d(512, 512, kernel_size=(3, 3), stride=(2, 2), padding=(1, 1), bias=False)\n",
       "      (bn2): BatchNorm2d(512, eps=1e-05, momentum=0.1, affine=True, track_running_stats=True)\n",
       "      (conv3): Conv2d(512, 2048, kernel_size=(1, 1), stride=(1, 1), bias=False)\n",
       "      (bn3): BatchNorm2d(2048, eps=1e-05, momentum=0.1, affine=True, track_running_stats=True)\n",
       "      (relu): ReLU(inplace=True)\n",
       "      (downsample): Sequential(\n",
       "        (0): Conv2d(1024, 2048, kernel_size=(1, 1), stride=(2, 2), bias=False)\n",
       "        (1): BatchNorm2d(2048, eps=1e-05, momentum=0.1, affine=True, track_running_stats=True)\n",
       "      )\n",
       "    )\n",
       "    (1): Bottleneck(\n",
       "      (conv1): Conv2d(2048, 512, kernel_size=(1, 1), stride=(1, 1), bias=False)\n",
       "      (bn1): BatchNorm2d(512, eps=1e-05, momentum=0.1, affine=True, track_running_stats=True)\n",
       "      (conv2): Conv2d(512, 512, kernel_size=(3, 3), stride=(1, 1), padding=(1, 1), bias=False)\n",
       "      (bn2): BatchNorm2d(512, eps=1e-05, momentum=0.1, affine=True, track_running_stats=True)\n",
       "      (conv3): Conv2d(512, 2048, kernel_size=(1, 1), stride=(1, 1), bias=False)\n",
       "      (bn3): BatchNorm2d(2048, eps=1e-05, momentum=0.1, affine=True, track_running_stats=True)\n",
       "      (relu): ReLU(inplace=True)\n",
       "    )\n",
       "    (2): Bottleneck(\n",
       "      (conv1): Conv2d(2048, 512, kernel_size=(1, 1), stride=(1, 1), bias=False)\n",
       "      (bn1): BatchNorm2d(512, eps=1e-05, momentum=0.1, affine=True, track_running_stats=True)\n",
       "      (conv2): Conv2d(512, 512, kernel_size=(3, 3), stride=(1, 1), padding=(1, 1), bias=False)\n",
       "      (bn2): BatchNorm2d(512, eps=1e-05, momentum=0.1, affine=True, track_running_stats=True)\n",
       "      (conv3): Conv2d(512, 2048, kernel_size=(1, 1), stride=(1, 1), bias=False)\n",
       "      (bn3): BatchNorm2d(2048, eps=1e-05, momentum=0.1, affine=True, track_running_stats=True)\n",
       "      (relu): ReLU(inplace=True)\n",
       "    )\n",
       "  )\n",
       "  (avgpool): AdaptiveAvgPool2d(output_size=(1, 1))\n",
       "  (fc): Linear(in_features=2048, out_features=1000, bias=True)\n",
       ")"
      ]
     },
     "execution_count": 34,
     "metadata": {},
     "output_type": "execute_result"
    }
   ],
   "source": [
    "# conv1 => bn1 => relu => maxpool => layer1-layer4 => avgpool => fc\n",
    "model"
   ]
  },
  {
   "cell_type": "code",
   "execution_count": 35,
   "id": "b97a8782",
   "metadata": {
    "ExecuteTime": {
     "end_time": "2023-06-10T11:00:49.368357Z",
     "start_time": "2023-06-10T11:00:49.359729Z"
    }
   },
   "outputs": [],
   "source": [
    "from torchsummary import summary"
   ]
  },
  {
   "cell_type": "code",
   "execution_count": 36,
   "id": "44b4d3aa",
   "metadata": {
    "ExecuteTime": {
     "end_time": "2023-06-10T11:00:50.573133Z",
     "start_time": "2023-06-10T11:00:50.468033Z"
    }
   },
   "outputs": [
    {
     "name": "stdout",
     "output_type": "stream",
     "text": [
      "----------------------------------------------------------------\n",
      "        Layer (type)               Output Shape         Param #\n",
      "================================================================\n",
      "            Conv2d-1           [-1, 64, 64, 64]           9,408\n",
      "       BatchNorm2d-2           [-1, 64, 64, 64]             128\n",
      "              ReLU-3           [-1, 64, 64, 64]               0\n",
      "         MaxPool2d-4           [-1, 64, 32, 32]               0\n",
      "            Conv2d-5           [-1, 64, 32, 32]           4,096\n",
      "       BatchNorm2d-6           [-1, 64, 32, 32]             128\n",
      "              ReLU-7           [-1, 64, 32, 32]               0\n",
      "            Conv2d-8           [-1, 64, 32, 32]          36,864\n",
      "       BatchNorm2d-9           [-1, 64, 32, 32]             128\n",
      "             ReLU-10           [-1, 64, 32, 32]               0\n",
      "           Conv2d-11          [-1, 256, 32, 32]          16,384\n",
      "      BatchNorm2d-12          [-1, 256, 32, 32]             512\n",
      "           Conv2d-13          [-1, 256, 32, 32]          16,384\n",
      "      BatchNorm2d-14          [-1, 256, 32, 32]             512\n",
      "             ReLU-15          [-1, 256, 32, 32]               0\n",
      "       Bottleneck-16          [-1, 256, 32, 32]               0\n",
      "           Conv2d-17           [-1, 64, 32, 32]          16,384\n",
      "      BatchNorm2d-18           [-1, 64, 32, 32]             128\n",
      "             ReLU-19           [-1, 64, 32, 32]               0\n",
      "           Conv2d-20           [-1, 64, 32, 32]          36,864\n",
      "      BatchNorm2d-21           [-1, 64, 32, 32]             128\n",
      "             ReLU-22           [-1, 64, 32, 32]               0\n",
      "           Conv2d-23          [-1, 256, 32, 32]          16,384\n",
      "      BatchNorm2d-24          [-1, 256, 32, 32]             512\n",
      "             ReLU-25          [-1, 256, 32, 32]               0\n",
      "       Bottleneck-26          [-1, 256, 32, 32]               0\n",
      "           Conv2d-27           [-1, 64, 32, 32]          16,384\n",
      "      BatchNorm2d-28           [-1, 64, 32, 32]             128\n",
      "             ReLU-29           [-1, 64, 32, 32]               0\n",
      "           Conv2d-30           [-1, 64, 32, 32]          36,864\n",
      "      BatchNorm2d-31           [-1, 64, 32, 32]             128\n",
      "             ReLU-32           [-1, 64, 32, 32]               0\n",
      "           Conv2d-33          [-1, 256, 32, 32]          16,384\n",
      "      BatchNorm2d-34          [-1, 256, 32, 32]             512\n",
      "             ReLU-35          [-1, 256, 32, 32]               0\n",
      "       Bottleneck-36          [-1, 256, 32, 32]               0\n",
      "           Conv2d-37          [-1, 128, 32, 32]          32,768\n",
      "      BatchNorm2d-38          [-1, 128, 32, 32]             256\n",
      "             ReLU-39          [-1, 128, 32, 32]               0\n",
      "           Conv2d-40          [-1, 128, 16, 16]         147,456\n",
      "      BatchNorm2d-41          [-1, 128, 16, 16]             256\n",
      "             ReLU-42          [-1, 128, 16, 16]               0\n",
      "           Conv2d-43          [-1, 512, 16, 16]          65,536\n",
      "      BatchNorm2d-44          [-1, 512, 16, 16]           1,024\n",
      "           Conv2d-45          [-1, 512, 16, 16]         131,072\n",
      "      BatchNorm2d-46          [-1, 512, 16, 16]           1,024\n",
      "             ReLU-47          [-1, 512, 16, 16]               0\n",
      "       Bottleneck-48          [-1, 512, 16, 16]               0\n",
      "           Conv2d-49          [-1, 128, 16, 16]          65,536\n",
      "      BatchNorm2d-50          [-1, 128, 16, 16]             256\n",
      "             ReLU-51          [-1, 128, 16, 16]               0\n",
      "           Conv2d-52          [-1, 128, 16, 16]         147,456\n",
      "      BatchNorm2d-53          [-1, 128, 16, 16]             256\n",
      "             ReLU-54          [-1, 128, 16, 16]               0\n",
      "           Conv2d-55          [-1, 512, 16, 16]          65,536\n",
      "      BatchNorm2d-56          [-1, 512, 16, 16]           1,024\n",
      "             ReLU-57          [-1, 512, 16, 16]               0\n",
      "       Bottleneck-58          [-1, 512, 16, 16]               0\n",
      "           Conv2d-59          [-1, 128, 16, 16]          65,536\n",
      "      BatchNorm2d-60          [-1, 128, 16, 16]             256\n",
      "             ReLU-61          [-1, 128, 16, 16]               0\n",
      "           Conv2d-62          [-1, 128, 16, 16]         147,456\n",
      "      BatchNorm2d-63          [-1, 128, 16, 16]             256\n",
      "             ReLU-64          [-1, 128, 16, 16]               0\n",
      "           Conv2d-65          [-1, 512, 16, 16]          65,536\n",
      "      BatchNorm2d-66          [-1, 512, 16, 16]           1,024\n",
      "             ReLU-67          [-1, 512, 16, 16]               0\n",
      "       Bottleneck-68          [-1, 512, 16, 16]               0\n",
      "           Conv2d-69          [-1, 128, 16, 16]          65,536\n",
      "      BatchNorm2d-70          [-1, 128, 16, 16]             256\n",
      "             ReLU-71          [-1, 128, 16, 16]               0\n",
      "           Conv2d-72          [-1, 128, 16, 16]         147,456\n",
      "      BatchNorm2d-73          [-1, 128, 16, 16]             256\n",
      "             ReLU-74          [-1, 128, 16, 16]               0\n",
      "           Conv2d-75          [-1, 512, 16, 16]          65,536\n",
      "      BatchNorm2d-76          [-1, 512, 16, 16]           1,024\n",
      "             ReLU-77          [-1, 512, 16, 16]               0\n",
      "       Bottleneck-78          [-1, 512, 16, 16]               0\n",
      "           Conv2d-79          [-1, 256, 16, 16]         131,072\n",
      "      BatchNorm2d-80          [-1, 256, 16, 16]             512\n",
      "             ReLU-81          [-1, 256, 16, 16]               0\n",
      "           Conv2d-82            [-1, 256, 8, 8]         589,824\n",
      "      BatchNorm2d-83            [-1, 256, 8, 8]             512\n",
      "             ReLU-84            [-1, 256, 8, 8]               0\n",
      "           Conv2d-85           [-1, 1024, 8, 8]         262,144\n",
      "      BatchNorm2d-86           [-1, 1024, 8, 8]           2,048\n",
      "           Conv2d-87           [-1, 1024, 8, 8]         524,288\n",
      "      BatchNorm2d-88           [-1, 1024, 8, 8]           2,048\n",
      "             ReLU-89           [-1, 1024, 8, 8]               0\n",
      "       Bottleneck-90           [-1, 1024, 8, 8]               0\n",
      "           Conv2d-91            [-1, 256, 8, 8]         262,144\n",
      "      BatchNorm2d-92            [-1, 256, 8, 8]             512\n",
      "             ReLU-93            [-1, 256, 8, 8]               0\n",
      "           Conv2d-94            [-1, 256, 8, 8]         589,824\n",
      "      BatchNorm2d-95            [-1, 256, 8, 8]             512\n",
      "             ReLU-96            [-1, 256, 8, 8]               0\n",
      "           Conv2d-97           [-1, 1024, 8, 8]         262,144\n",
      "      BatchNorm2d-98           [-1, 1024, 8, 8]           2,048\n",
      "             ReLU-99           [-1, 1024, 8, 8]               0\n",
      "      Bottleneck-100           [-1, 1024, 8, 8]               0\n",
      "          Conv2d-101            [-1, 256, 8, 8]         262,144\n",
      "     BatchNorm2d-102            [-1, 256, 8, 8]             512\n",
      "            ReLU-103            [-1, 256, 8, 8]               0\n",
      "          Conv2d-104            [-1, 256, 8, 8]         589,824\n",
      "     BatchNorm2d-105            [-1, 256, 8, 8]             512\n",
      "            ReLU-106            [-1, 256, 8, 8]               0\n",
      "          Conv2d-107           [-1, 1024, 8, 8]         262,144\n",
      "     BatchNorm2d-108           [-1, 1024, 8, 8]           2,048\n",
      "            ReLU-109           [-1, 1024, 8, 8]               0\n",
      "      Bottleneck-110           [-1, 1024, 8, 8]               0\n",
      "          Conv2d-111            [-1, 256, 8, 8]         262,144\n",
      "     BatchNorm2d-112            [-1, 256, 8, 8]             512\n",
      "            ReLU-113            [-1, 256, 8, 8]               0\n",
      "          Conv2d-114            [-1, 256, 8, 8]         589,824\n",
      "     BatchNorm2d-115            [-1, 256, 8, 8]             512\n",
      "            ReLU-116            [-1, 256, 8, 8]               0\n",
      "          Conv2d-117           [-1, 1024, 8, 8]         262,144\n",
      "     BatchNorm2d-118           [-1, 1024, 8, 8]           2,048\n",
      "            ReLU-119           [-1, 1024, 8, 8]               0\n",
      "      Bottleneck-120           [-1, 1024, 8, 8]               0\n",
      "          Conv2d-121            [-1, 256, 8, 8]         262,144\n",
      "     BatchNorm2d-122            [-1, 256, 8, 8]             512\n",
      "            ReLU-123            [-1, 256, 8, 8]               0\n",
      "          Conv2d-124            [-1, 256, 8, 8]         589,824\n",
      "     BatchNorm2d-125            [-1, 256, 8, 8]             512\n",
      "            ReLU-126            [-1, 256, 8, 8]               0\n",
      "          Conv2d-127           [-1, 1024, 8, 8]         262,144\n",
      "     BatchNorm2d-128           [-1, 1024, 8, 8]           2,048\n",
      "            ReLU-129           [-1, 1024, 8, 8]               0\n",
      "      Bottleneck-130           [-1, 1024, 8, 8]               0\n",
      "          Conv2d-131            [-1, 256, 8, 8]         262,144\n",
      "     BatchNorm2d-132            [-1, 256, 8, 8]             512\n",
      "            ReLU-133            [-1, 256, 8, 8]               0\n",
      "          Conv2d-134            [-1, 256, 8, 8]         589,824\n",
      "     BatchNorm2d-135            [-1, 256, 8, 8]             512\n",
      "            ReLU-136            [-1, 256, 8, 8]               0\n",
      "          Conv2d-137           [-1, 1024, 8, 8]         262,144\n",
      "     BatchNorm2d-138           [-1, 1024, 8, 8]           2,048\n",
      "            ReLU-139           [-1, 1024, 8, 8]               0\n",
      "      Bottleneck-140           [-1, 1024, 8, 8]               0\n",
      "          Conv2d-141            [-1, 512, 8, 8]         524,288\n",
      "     BatchNorm2d-142            [-1, 512, 8, 8]           1,024\n",
      "            ReLU-143            [-1, 512, 8, 8]               0\n",
      "          Conv2d-144            [-1, 512, 4, 4]       2,359,296\n",
      "     BatchNorm2d-145            [-1, 512, 4, 4]           1,024\n",
      "            ReLU-146            [-1, 512, 4, 4]               0\n",
      "          Conv2d-147           [-1, 2048, 4, 4]       1,048,576\n",
      "     BatchNorm2d-148           [-1, 2048, 4, 4]           4,096\n",
      "          Conv2d-149           [-1, 2048, 4, 4]       2,097,152\n",
      "     BatchNorm2d-150           [-1, 2048, 4, 4]           4,096\n",
      "            ReLU-151           [-1, 2048, 4, 4]               0\n",
      "      Bottleneck-152           [-1, 2048, 4, 4]               0\n",
      "          Conv2d-153            [-1, 512, 4, 4]       1,048,576\n",
      "     BatchNorm2d-154            [-1, 512, 4, 4]           1,024\n",
      "            ReLU-155            [-1, 512, 4, 4]               0\n",
      "          Conv2d-156            [-1, 512, 4, 4]       2,359,296\n",
      "     BatchNorm2d-157            [-1, 512, 4, 4]           1,024\n",
      "            ReLU-158            [-1, 512, 4, 4]               0\n",
      "          Conv2d-159           [-1, 2048, 4, 4]       1,048,576\n",
      "     BatchNorm2d-160           [-1, 2048, 4, 4]           4,096\n",
      "            ReLU-161           [-1, 2048, 4, 4]               0\n",
      "      Bottleneck-162           [-1, 2048, 4, 4]               0\n",
      "          Conv2d-163            [-1, 512, 4, 4]       1,048,576\n",
      "     BatchNorm2d-164            [-1, 512, 4, 4]           1,024\n",
      "            ReLU-165            [-1, 512, 4, 4]               0\n",
      "          Conv2d-166            [-1, 512, 4, 4]       2,359,296\n",
      "     BatchNorm2d-167            [-1, 512, 4, 4]           1,024\n",
      "            ReLU-168            [-1, 512, 4, 4]               0\n",
      "          Conv2d-169           [-1, 2048, 4, 4]       1,048,576\n",
      "     BatchNorm2d-170           [-1, 2048, 4, 4]           4,096\n",
      "            ReLU-171           [-1, 2048, 4, 4]               0\n",
      "      Bottleneck-172           [-1, 2048, 4, 4]               0\n",
      "AdaptiveAvgPool2d-173           [-1, 2048, 1, 1]               0\n",
      "          Linear-174                 [-1, 1000]       2,049,000\n",
      "================================================================\n",
      "Total params: 25,557,032\n",
      "Trainable params: 25,557,032\n",
      "Non-trainable params: 0\n",
      "----------------------------------------------------------------\n",
      "Input size (MB): 0.19\n",
      "Forward/backward pass size (MB): 93.59\n",
      "Params size (MB): 97.49\n",
      "Estimated Total Size (MB): 191.27\n",
      "----------------------------------------------------------------\n"
     ]
    }
   ],
   "source": [
    "summary(model, input_size=(3, 128, 128), device='cpu')"
   ]
  },
  {
   "cell_type": "code",
   "execution_count": null,
   "id": "f8e6c6fe",
   "metadata": {},
   "outputs": [],
   "source": []
  },
  {
   "cell_type": "markdown",
   "id": "23d6cf5f",
   "metadata": {},
   "source": [
    "### 自定义模型并行"
   ]
  },
  {
   "cell_type": "code",
   "execution_count": 37,
   "id": "4f20df8d",
   "metadata": {
    "ExecuteTime": {
     "end_time": "2023-06-10T11:04:16.626624Z",
     "start_time": "2023-06-10T11:04:16.614728Z"
    }
   },
   "outputs": [
    {
     "name": "stdout",
     "output_type": "stream",
     "text": [
      "torch.Size([2, 3, 4])\n"
     ]
    },
    {
     "data": {
      "text/plain": [
       "torch.Size([2, 12])"
      ]
     },
     "execution_count": 37,
     "metadata": {},
     "output_type": "execute_result"
    }
   ],
   "source": [
    "t = torch.rand((2, 3, 4))\n",
    "print(t.shape)\n",
    "t.view(t.size(0), -1).shape"
   ]
  },
  {
   "cell_type": "code",
   "execution_count": 38,
   "id": "928d344b",
   "metadata": {
    "ExecuteTime": {
     "end_time": "2023-06-10T11:01:31.594634Z",
     "start_time": "2023-06-10T11:01:31.583933Z"
    }
   },
   "outputs": [],
   "source": [
    "class ModelParallelResNet50(ResNet):\n",
    "    def __init__(self, num_classes=1000):\n",
    "        super().__init__(Bottleneck, [3, 4, 6, 3], num_classes=num_classes)\n",
    "        # conv1 => bn1 => relu => maxpool => layer1-layer4 => avgpool => fc\n",
    "        self.seq1 = nn.Sequential(\n",
    "            self.conv1,\n",
    "            self.bn1,\n",
    "            self.relu,\n",
    "            self.maxpool,\n",
    "            self.layer1, \n",
    "            self.layer2\n",
    "        ).to('cuda:0')\n",
    "        \n",
    "        self.seq2 = nn.Sequential(\n",
    "            self.layer3, \n",
    "            self.layer4,\n",
    "            self.avgpool,\n",
    "        ).to('cuda:1')\n",
    "        \n",
    "        self.fc.to('cuda:1')\n",
    "    \n",
    "    def forward(self, x):\n",
    "        # model parts（layers） 的一个（卡间）串行，\n",
    "        x = self.seq2(self.seq1(x).to('cuda:1'))\n",
    "        return self.fc(x.view(x.size(0), -1))"
   ]
  },
  {
   "cell_type": "code",
   "execution_count": null,
   "id": "d77bd822",
   "metadata": {},
   "outputs": [],
   "source": [
    "# class ModelParallelResNet50(ResNet):\n",
    "#     def __init__(self, num_classes=1000):\n",
    "#         super().__init__(Bottleneck, [3, 4, 6, 3], num_classes=num_classes)  # 调用父类ResNet的构造函数，初始化ResNet50模型结构\n",
    "#         # conv1 => bn1 => relu => maxpool => layer1-layer4 => avgpool => fc\n",
    "#         self.seq1 = nn.Sequential(\n",
    "#             self.conv1,  # 第一层卷积层，负责提取输入图像的低级特征\n",
    "#             self.bn1,   # 批归一化层，用于加速训练并提高模型稳定性\n",
    "#             self.relu,  # 激活函数ReLU，引入非线性\n",
    "#             self.maxpool,  # 最大池化层，降维并提取重要特征\n",
    "#             self.layer1,  # ResNet的第一个残差块组，包含多个Bottleneck模块\n",
    "#             self.layer2   # ResNet的第二个残差块组，进一步提取特征\n",
    "#         ).to('cuda:0')  # 将seq1部分的计算分配到GPU 0上\n",
    "        \n",
    "#         self.seq2 = nn.Sequential(\n",
    "#             self.layer3,  # ResNet的第三个残差块组，提取更深层次的特征\n",
    "#             self.layer4,  # ResNet的第四个残差块组，负责高层次特征提取\n",
    "#             self.avgpool,  # 全局平均池化层，将特征图降维为固定大小\n",
    "#         ).to('cuda:1')  # 将seq2部分的计算分配到GPU 1上\n",
    "        \n",
    "#         self.fc.to('cuda:1')  # 将全连接层（分类器）分配到GPU 1上\n",
    "    \n",
    "#     def forward(self, x):\n",
    "#         # model parts（layers） 的一个（卡间）串行，\n",
    "#         x = self.seq2(self.seq1(x).to('cuda:1'))  # 输入x先经过seq1处理，然后通过`.to('cuda:1')`将结果从GPU 0传输到GPU 1，再由seq2处理\n",
    "#         return self.fc(x.view(x.size(0), -1))  # 将特征展平并通过全连接层得到最终分类结果"
   ]
  },
  {
   "cell_type": "code",
   "execution_count": 39,
   "id": "374455e7",
   "metadata": {
    "ExecuteTime": {
     "end_time": "2023-06-10T11:04:56.872047Z",
     "start_time": "2023-06-10T11:04:56.864383Z"
    }
   },
   "outputs": [],
   "source": [
    "def model_size(model):\n",
    "    return sum([para.numel() for para in model.parameters()])"
   ]
  },
  {
   "cell_type": "code",
   "execution_count": 40,
   "id": "a5aac0f0",
   "metadata": {
    "ExecuteTime": {
     "end_time": "2023-06-10T11:05:24.032226Z",
     "start_time": "2023-06-10T11:05:23.624182Z"
    }
   },
   "outputs": [
    {
     "data": {
      "text/plain": [
       "25557032"
      ]
     },
     "execution_count": 40,
     "metadata": {},
     "output_type": "execute_result"
    }
   ],
   "source": [
    "model_size(ResNet(Bottleneck, [3, 4, 6, 3]))"
   ]
  },
  {
   "cell_type": "code",
   "execution_count": 41,
   "id": "af29fed8",
   "metadata": {
    "ExecuteTime": {
     "end_time": "2023-06-10T11:05:34.089675Z",
     "start_time": "2023-06-10T11:05:33.757310Z"
    }
   },
   "outputs": [
    {
     "data": {
      "text/plain": [
       "25557032"
      ]
     },
     "execution_count": 41,
     "metadata": {},
     "output_type": "execute_result"
    }
   ],
   "source": [
    "model_size(ModelParallelResNet50())"
   ]
  },
  {
   "cell_type": "markdown",
   "id": "b5b081a1",
   "metadata": {},
   "source": [
    "### train pipeline"
   ]
  },
  {
   "cell_type": "code",
   "execution_count": 42,
   "id": "7b7cebe8",
   "metadata": {
    "ExecuteTime": {
     "end_time": "2023-06-10T11:07:12.691328Z",
     "start_time": "2023-06-10T11:07:12.684987Z"
    }
   },
   "outputs": [],
   "source": [
    "num_classes = 10"
   ]
  },
  {
   "cell_type": "code",
   "execution_count": 43,
   "id": "dfc12ad5",
   "metadata": {
    "ExecuteTime": {
     "end_time": "2023-06-10T11:07:13.763943Z",
     "start_time": "2023-06-10T11:07:13.751034Z"
    }
   },
   "outputs": [
    {
     "data": {
      "text/plain": [
       "tensor([[0],\n",
       "        [3],\n",
       "        [1],\n",
       "        [3],\n",
       "        [9]])"
      ]
     },
     "execution_count": 43,
     "metadata": {},
     "output_type": "execute_result"
    }
   ],
   "source": [
    "one_hot_indices = torch.LongTensor(5) \\\n",
    "                           .random_(0, num_classes) \\\n",
    "                           .view(5, 1)\n",
    "one_hot_indices"
   ]
  },
  {
   "cell_type": "code",
   "execution_count": 44,
   "id": "52efeeb8",
   "metadata": {
    "ExecuteTime": {
     "end_time": "2023-06-10T11:07:28.802359Z",
     "start_time": "2023-06-10T11:07:28.788458Z"
    }
   },
   "outputs": [
    {
     "data": {
      "text/plain": [
       "tensor([[1., 0., 0., 0., 0., 0., 0., 0., 0., 0.],\n",
       "        [0., 0., 0., 1., 0., 0., 0., 0., 0., 0.],\n",
       "        [0., 1., 0., 0., 0., 0., 0., 0., 0., 0.],\n",
       "        [0., 0., 0., 1., 0., 0., 0., 0., 0., 0.],\n",
       "        [0., 0., 0., 0., 0., 0., 0., 0., 0., 1.]])"
      ]
     },
     "execution_count": 44,
     "metadata": {},
     "output_type": "execute_result"
    }
   ],
   "source": [
    "labels = torch.zeros(5, num_classes) \\\n",
    "                      .scatter_(1, one_hot_indices, 1)\n",
    "labels"
   ]
  },
  {
   "cell_type": "code",
   "execution_count": 45,
   "id": "2573c3ae",
   "metadata": {
    "ExecuteTime": {
     "end_time": "2023-06-10T11:08:49.711577Z",
     "start_time": "2023-06-10T11:08:49.697409Z"
    }
   },
   "outputs": [],
   "source": [
    "num_classes = 1000\n",
    "num_batches = 3\n",
    "batch_size = 120\n",
    "image_w = 128\n",
    "image_h = 128\n",
    "\n",
    "\n",
    "def train(model):\n",
    "    model.train(True)\n",
    "    loss_fn = nn.MSELoss()\n",
    "    optimizer = optim.SGD(model.parameters(), lr=0.001)\n",
    "\n",
    "    one_hot_indices = torch.LongTensor(batch_size) \\\n",
    "                           .random_(0, num_classes) \\\n",
    "                           .view(batch_size, 1)\n",
    "\n",
    "    for _ in range(num_batches):\n",
    "        # generate random inputs and labels\n",
    "        # (b, c, w, h)\n",
    "        inputs = torch.randn(batch_size, 3, image_w, image_h)\n",
    "        # one hot：(batch_size, num_classes)，行粒度只有一个为1 （one-hot）\n",
    "        # scatter 的三个参数：dim, index, src\n",
    "        labels = torch.zeros(batch_size, num_classes) \\\n",
    "                      .scatter_(1, one_hot_indices, 1)\n",
    "\n",
    "        # run forward pass\n",
    "        optimizer.zero_grad()\n",
    "        outputs = model(inputs.to('cuda:0'))\n",
    "#         print('outputs', outputs.shape)\n",
    "        # run backward pass\n",
    "        labels = labels.to(outputs.device)\n",
    "        loss_fn(outputs, labels).backward()\n",
    "        optimizer.step()"
   ]
  },
  {
   "cell_type": "code",
   "execution_count": 46,
   "id": "5ce49d87",
   "metadata": {
    "ExecuteTime": {
     "end_time": "2023-06-10T11:10:02.945687Z",
     "start_time": "2023-06-10T11:09:52.052107Z"
    }
   },
   "outputs": [],
   "source": [
    "import matplotlib.pyplot as plt\n",
    "# plt.switch_backend('Agg')\n",
    "import numpy as np\n",
    "import timeit\n",
    "\n",
    "num_repeat = 10\n",
    "\n",
    "stmt = \"train(model)\"\n",
    "\n",
    "# 模型并行\n",
    "setup = \"model = ModelParallelResNet50()\"\n",
    "mp_run_times = timeit.repeat(\n",
    "    stmt, setup, number=1, repeat=num_repeat, globals=globals())\n",
    "mp_mean, mp_std = np.mean(mp_run_times), np.std(mp_run_times)\n",
    "\n",
    "# 单卡\n",
    "setup = \"import torchvision.models as models;\" + \\\n",
    "        \"model = models.resnet50(num_classes=num_classes).to('cuda:0')\"\n",
    "rn_run_times = timeit.repeat(\n",
    "    stmt, setup, number=1, repeat=num_repeat, globals=globals())\n",
    "rn_mean, rn_std = np.mean(rn_run_times), np.std(rn_run_times)\n",
    "\n",
    "\n",
    "def plot(means, stds, labels, fig_name):\n",
    "    fig, ax = plt.subplots()\n",
    "    ax.bar(np.arange(len(means)), means, yerr=stds,\n",
    "           align='center', alpha=0.5, ecolor='red', capsize=10, width=0.6)\n",
    "    ax.set_ylabel('ResNet50 Execution Time (Second)')\n",
    "    ax.set_xticks(np.arange(len(means)))\n",
    "    ax.set_xticklabels(labels)\n",
    "    ax.yaxis.grid(True)\n",
    "    plt.tight_layout()\n",
    "#     plt.savefig(fig_name)\n",
    "#     plt.close(fig)\n"
   ]
  },
  {
   "cell_type": "code",
   "execution_count": null,
   "id": "1dbd846b",
   "metadata": {},
   "outputs": [],
   "source": [
    "# import matplotlib.pyplot as plt  # 导入matplotlib库用于绘图\n",
    "# # plt.switch_backend('Agg')  # 切换matplotlib的后端为Agg（非交互模式，适用于无图形界面环境）\n",
    "# import numpy as np  # 导入numpy库用于数值计算\n",
    "# import timeit  # 导入timeit库用于测量代码执行时间\n",
    "\n",
    "# num_repeat = 10  # 定义重复运行次数为10次\n",
    "\n",
    "# stmt = \"train(model)\"  # 定义要测试的语句，这里是调用train函数训练模型\n",
    "\n",
    "# # 模型并行\n",
    "# setup = \"model = ModelParallelResNet50()\"  # 定义模型初始化语句，使用自定义的ModelParallelResNet50类\n",
    "# mp_run_times = timeit.repeat(  # 使用timeit.repeat测量模型并行的执行时间\n",
    "#     stmt, setup, number=1, repeat=num_repeat, globals=globals())  # 测试语句、初始化语句、每个循环运行1次、重复10次、传入全局变量\n",
    "# mp_mean, mp_std = np.mean(mp_run_times), np.std(mp_run_times)  # 计算模型并行的平均时间和标准差\n",
    "\n",
    "# # 单卡\n",
    "# setup = \"import torchvision.models as models;\" + \\  # 定义单卡模型的初始化语句，使用torchvision中的resnet50模型\n",
    "#         \"model = models.resnet50(num_classes=num_classes).to('cuda:0')\"  # 将模型加载到cuda:0设备上\n",
    "# rn_run_times = timeit.repeat(  # 使用timeit.repeat测量单卡模型的执行时间\n",
    "#     stmt, setup, number=1, repeat=num_repeat, globals=globals())  # 测试语句、初始化语句、每个循环运行1次、重复10次、传入全局变量\n",
    "# rn_mean, rn_std = np.mean(rn_run_times), np.std(rn_run_times)  # 计算单卡模型的平均时间和标准差\n",
    "\n",
    "\n",
    "# def plot(means, stds, labels, fig_name):  # 定义绘图函数\n",
    "#     fig, ax = plt.subplots()  # 创建一个画布和子图\n",
    "#     ax.bar(np.arange(len(means)), means, yerr=stds,  # 绘制柱状图，x轴为索引，y轴为平均值，误差条为标准差\n",
    "#            align='center', alpha=0.5, ecolor='red', capsize=10, width=0.6)  # 设置柱状图样式：居中对齐、透明度、误差条颜色、误差条帽大小、柱宽\n",
    "#     ax.set_ylabel('ResNet50 Execution Time (Second)')  # 设置y轴标签为“ResNet50执行时间（秒）”\n",
    "#     ax.set_xticks(np.arange(len(means)))  # 设置x轴刻度为索引\n",
    "#     ax.set_xticklabels(labels)  # 设置x轴刻度标签为传入的标签\n",
    "#     ax.yaxis.grid(True)  # 启用y轴网格线\n",
    "#     plt.tight_layout()  # 自动调整布局以避免重叠\n",
    "# #     plt.savefig(fig_name)  # 保存图像到文件（注释掉）\n",
    "# #     plt.close(fig)  # 关闭画布（注释掉）"
   ]
  },
  {
   "cell_type": "code",
   "execution_count": 47,
   "id": "f88e513e",
   "metadata": {
    "ExecuteTime": {
     "end_time": "2023-06-10T11:10:05.315262Z",
     "start_time": "2023-06-10T11:10:05.145062Z"
    },
    "scrolled": false
   },
   "outputs": [
    {
     "data": {
      "image/png": "[encoded data removed]",
      "text/plain": [
       "<Figure size 640x480 with 1 Axes>"
      ]
     },
     "metadata": {},
     "output_type": "display_data"
    }
   ],
   "source": [
    "plot([mp_mean, rn_mean],\n",
    "     [mp_std, rn_std],\n",
    "     ['Model Parallel', 'Single GPU'],\n",
    "     'mp_vs_rn.png')"
   ]
  },
  {
   "cell_type": "code",
   "execution_count": 48,
   "id": "a8815235",
   "metadata": {
    "ExecuteTime": {
     "end_time": "2023-06-10T11:10:32.195022Z",
     "start_time": "2023-06-10T11:10:32.186272Z"
    }
   },
   "outputs": [
    {
     "data": {
      "text/plain": [
       "(np.float64(0.19741040412336588), np.float64(0.17997694667428732))"
      ]
     },
     "execution_count": 48,
     "metadata": {},
     "output_type": "execute_result"
    }
   ],
   "source": [
    "mp_mean, rn_mean"
   ]
  },
  {
   "cell_type": "code",
   "execution_count": 49,
   "id": "83edc6f2",
   "metadata": {
    "ExecuteTime": {
     "end_time": "2023-06-10T11:10:33.784277Z",
     "start_time": "2023-06-10T11:10:33.774970Z"
    },
    "scrolled": true
   },
   "outputs": [
    {
     "data": {
      "text/plain": [
       "np.float64(0.09686494726810044)"
      ]
     },
     "execution_count": 49,
     "metadata": {},
     "output_type": "execute_result"
    }
   ],
   "source": [
    "(mp_mean-rn_mean)/rn_mean"
   ]
  },
  {
   "cell_type": "code",
   "execution_count": null,
   "id": "47550634",
   "metadata": {},
   "outputs": [],
   "source": []
  }
 ],
 "metadata": {
  "kernelspec": {
   "display_name": "fth-pytorch-gpu-env",
   "language": "python",
   "name": "python3"
  },
  "language_info": {
   "codemirror_mode": {
    "name": "ipython",
    "version": 3
   },
   "file_extension": ".py",
   "mimetype": "text/x-python",
   "name": "python",
   "nbconvert_exporter": "python",
   "pygments_lexer": "ipython3",
   "version": "3.10.17"
  },
  "toc": {
   "base_numbering": 1,
   "nav_menu": {},
   "number_sections": true,
   "sideBar": true,
   "skip_h1_title": false,
   "title_cell": "Table of Contents",
   "title_sidebar": "Contents",
   "toc_cell": false,
   "toc_position": {
    "height": "calc(100% - 180px)",
    "left": "10px",
    "top": "150px",
    "width": "169px"
   },
   "toc_section_display": true,
   "toc_window_display": true
  }
 },
 "nbformat": 4,
 "nbformat_minor": 5
}
